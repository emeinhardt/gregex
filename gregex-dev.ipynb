{
 "cells": [
  {
   "cell_type": "markdown",
   "metadata": {},
   "source": [
    "**Eric Meinhardt / emeinhardt@ucsd.edu**"
   ]
  },
  {
   "cell_type": "code",
   "execution_count": 1,
   "metadata": {
    "ExecuteTime": {
     "end_time": "2020-03-11T21:47:09.684236Z",
     "start_time": "2020-03-11T21:47:09.676599Z"
    }
   },
   "outputs": [],
   "source": [
    "#Prints **all** console output, not just last item in cell \n",
    "from IPython.core.interactiveshell import InteractiveShell\n",
    "InteractiveShell.ast_node_interactivity = \"all\""
   ]
  },
  {
   "cell_type": "markdown",
   "metadata": {
    "toc": true
   },
   "source": [
    "<h1>Table of Contents<span class=\"tocSkip\"></span></h1>\n",
    "<div class=\"toc\"><ul class=\"toc-item\"><li><span><a href=\"#Motivation\" data-toc-modified-id=\"Motivation-1\"><span class=\"toc-item-num\">1&nbsp;&nbsp;</span>Motivation</a></span></li><li><span><a href=\"#Imports\" data-toc-modified-id=\"Imports-2\"><span class=\"toc-item-num\">2&nbsp;&nbsp;</span>Imports</a></span></li><li><span><a href=\"#glypy-basics\" data-toc-modified-id=\"glypy-basics-3\"><span class=\"toc-item-num\">3&nbsp;&nbsp;</span><code>glypy</code> basics</a></span><ul class=\"toc-item\"><li><span><a href=\"#Create-a-specific-glycan,-show-it-as-a-tree-and-in-linear-code\" data-toc-modified-id=\"Create-a-specific-glycan,-show-it-as-a-tree-and-in-linear-code-3.1\"><span class=\"toc-item-num\">3.1&nbsp;&nbsp;</span>Create a specific glycan, show it as a tree and in linear code</a></span></li><li><span><a href=\"#List-of-linear-code-expressions\" data-toc-modified-id=\"List-of-linear-code-expressions-3.2\"><span class=\"toc-item-num\">3.2&nbsp;&nbsp;</span>List of linear code expressions</a></span></li><li><span><a href=\"#Declare-some-syntactic-categories\" data-toc-modified-id=\"Declare-some-syntactic-categories-3.3\"><span class=\"toc-item-num\">3.3&nbsp;&nbsp;</span>Declare some syntactic categories</a></span></li></ul></li><li><span><a href=\"#Bottom-up-parsing\" data-toc-modified-id=\"Bottom-up-parsing-4\"><span class=\"toc-item-num\">4&nbsp;&nbsp;</span>Bottom-up parsing</a></span><ul class=\"toc-item\"><li><span><a href=\"#Parenthesis-checking\" data-toc-modified-id=\"Parenthesis-checking-4.1\"><span class=\"toc-item-num\">4.1&nbsp;&nbsp;</span>Parenthesis checking</a></span></li><li><span><a href=\"#String-manipulation-boilerplate\" data-toc-modified-id=\"String-manipulation-boilerplate-4.2\"><span class=\"toc-item-num\">4.2&nbsp;&nbsp;</span>String manipulation boilerplate</a></span><ul class=\"toc-item\"><li><span><a href=\"#Generating-contiguous-subsequences\" data-toc-modified-id=\"Generating-contiguous-subsequences-4.2.1\"><span class=\"toc-item-num\">4.2.1&nbsp;&nbsp;</span>Generating contiguous subsequences</a></span></li><li><span><a href=\"#Generating-prefixes-and-suffixes\" data-toc-modified-id=\"Generating-prefixes-and-suffixes-4.2.2\"><span class=\"toc-item-num\">4.2.2&nbsp;&nbsp;</span>Generating prefixes and suffixes</a></span></li><li><span><a href=\"#Deprefixing-and-desuffixing\" data-toc-modified-id=\"Deprefixing-and-desuffixing-4.2.3\"><span class=\"toc-item-num\">4.2.3&nbsp;&nbsp;</span>Deprefixing and desuffixing</a></span></li><li><span><a href=\"#Circumfixing\" data-toc-modified-id=\"Circumfixing-4.2.4\"><span class=\"toc-item-num\">4.2.4&nbsp;&nbsp;</span>Circumfixing</a></span></li><li><span><a href=\"#Decircumfixing\" data-toc-modified-id=\"Decircumfixing-4.2.5\"><span class=\"toc-item-num\">4.2.5&nbsp;&nbsp;</span>Decircumfixing</a></span></li><li><span><a href=\"#Infixing\" data-toc-modified-id=\"Infixing-4.2.6\"><span class=\"toc-item-num\">4.2.6&nbsp;&nbsp;</span>Infixing</a></span></li><li><span><a href=\"#Deinfixing\" data-toc-modified-id=\"Deinfixing-4.2.7\"><span class=\"toc-item-num\">4.2.7&nbsp;&nbsp;</span>Deinfixing</a></span></li></ul></li><li><span><a href=\"#Tokenization\" data-toc-modified-id=\"Tokenization-4.3\"><span class=\"toc-item-num\">4.3&nbsp;&nbsp;</span>Tokenization</a></span></li><li><span><a href=\"#Krambeck-et-al.-2009's-ligand-&quot;...&quot;\" data-toc-modified-id=\"Krambeck-et-al.-2009's-ligand-&quot;...&quot;-4.4\"><span class=\"toc-item-num\">4.4&nbsp;&nbsp;</span>Krambeck et al. 2009's <code>ligand</code> \"...\"</a></span></li><li><span><a href=\"#Krambeck-et-al.-2009's-continuation-&quot;_&quot;\" data-toc-modified-id=\"Krambeck-et-al.-2009's-continuation-&quot;_&quot;-4.5\"><span class=\"toc-item-num\">4.5&nbsp;&nbsp;</span>Krambeck et al. 2009's <code>continuation</code> \"_\"</a></span></li><li><span><a href=\"#Comparing-ligand-matches-to-continuation-matches\" data-toc-modified-id=\"Comparing-ligand-matches-to-continuation-matches-4.6\"><span class=\"toc-item-num\">4.6&nbsp;&nbsp;</span>Comparing ligand matches to continuation matches</a></span></li></ul></li></ul></div>"
   ]
  },
  {
   "cell_type": "markdown",
   "metadata": {},
   "source": [
    "# Motivation"
   ]
  },
  {
   "cell_type": "markdown",
   "metadata": {},
   "source": [
    "**Purpose:** This is software-as-'tool for thinking' aimed at illuminating the meaning of inscrutable linear code wildcard operators.\n",
    "\n",
    "**Plan:** `glypy` does not support linear code wildcard operators, but it lets you move between different representations of *individual glycan (types)*. The point of this notebook is to augment this functionality by one or both\n",
    " 1. taking a linear code expression that contains wildcard operators and *generating examples* of glycans in the set described by that expression.\n",
    " 2. taking a set of glycans and a linear code expression and indicating whether that set of glycans is contained within the set of glycans described by the expression.\n",
    " \n",
    "The code in this notebook will then support experimentally determining what the (un)intuitive meaning of wildcard operators is."
   ]
  },
  {
   "cell_type": "markdown",
   "metadata": {},
   "source": [
    "# Imports"
   ]
  },
  {
   "cell_type": "code",
   "execution_count": 2,
   "metadata": {
    "ExecuteTime": {
     "end_time": "2020-03-11T21:47:09.789411Z",
     "start_time": "2020-03-11T21:47:09.688689Z"
    }
   },
   "outputs": [],
   "source": [
    "from funcy import *"
   ]
  },
  {
   "cell_type": "code",
   "execution_count": 3,
   "metadata": {
    "ExecuteTime": {
     "end_time": "2020-03-11T21:47:09.797711Z",
     "start_time": "2020-03-11T21:47:09.793526Z"
    }
   },
   "outputs": [],
   "source": [
    "from itertools import product"
   ]
  },
  {
   "cell_type": "code",
   "execution_count": 4,
   "metadata": {
    "ExecuteTime": {
     "end_time": "2020-03-11T21:47:09.805715Z",
     "start_time": "2020-03-11T21:47:09.801668Z"
    }
   },
   "outputs": [],
   "source": [
    "from copy import deepcopy"
   ]
  },
  {
   "cell_type": "code",
   "execution_count": 5,
   "metadata": {
    "ExecuteTime": {
     "end_time": "2020-03-11T21:47:10.166012Z",
     "start_time": "2020-03-11T21:47:09.809771Z"
    }
   },
   "outputs": [],
   "source": [
    "import glypy"
   ]
  },
  {
   "cell_type": "code",
   "execution_count": 6,
   "metadata": {
    "ExecuteTime": {
     "end_time": "2020-03-11T21:47:10.469382Z",
     "start_time": "2020-03-11T21:47:10.170042Z"
    }
   },
   "outputs": [],
   "source": [
    "from glypy.plot import plot\n",
    "%matplotlib inline"
   ]
  },
  {
   "cell_type": "code",
   "execution_count": 7,
   "metadata": {
    "ExecuteTime": {
     "end_time": "2020-03-11T21:47:10.481384Z",
     "start_time": "2020-03-11T21:47:10.472949Z"
    }
   },
   "outputs": [],
   "source": [
    "import glypy.io.linear_code"
   ]
  },
  {
   "cell_type": "markdown",
   "metadata": {},
   "source": [
    "# `glypy` basics"
   ]
  },
  {
   "cell_type": "markdown",
   "metadata": {},
   "source": [
    "## Create a specific glycan, show it as a tree and in linear code"
   ]
  },
  {
   "cell_type": "code",
   "execution_count": 8,
   "metadata": {
    "ExecuteTime": {
     "end_time": "2020-03-11T21:47:10.488471Z",
     "start_time": "2020-03-11T21:47:10.484838Z"
    }
   },
   "outputs": [],
   "source": [
    "#much of the code snippets in this subsection are taken from the glypy docs"
   ]
  },
  {
   "cell_type": "code",
   "execution_count": 9,
   "metadata": {
    "ExecuteTime": {
     "end_time": "2020-03-11T21:47:10.495563Z",
     "start_time": "2020-03-11T21:47:10.491829Z"
    }
   },
   "outputs": [],
   "source": [
    "monosaccharides = glypy.monosaccharides"
   ]
  },
  {
   "cell_type": "code",
   "execution_count": 10,
   "metadata": {
    "ExecuteTime": {
     "end_time": "2020-03-11T21:47:10.522154Z",
     "start_time": "2020-03-11T21:47:10.498935Z"
    }
   },
   "outputs": [
    {
     "data": {
      "text/plain": [
       "RES 1b:b-dglc-HEX-1:5 2s:n-acetyl LIN 1:1d(2+1)2n"
      ]
     },
     "execution_count": 10,
     "metadata": {},
     "output_type": "execute_result"
    },
    {
     "data": {
      "text/plain": [
       "RES 1b:b-dglc-HEX-1:5 2s:n-acetyl LIN 1:1d(2+1)2n"
      ]
     },
     "execution_count": 10,
     "metadata": {},
     "output_type": "execute_result"
    },
    {
     "data": {
      "text/plain": [
       "RES 1b:b-dman-HEX-1:5"
      ]
     },
     "execution_count": 10,
     "metadata": {},
     "output_type": "execute_result"
    },
    {
     "data": {
      "text/plain": [
       "RES 1b:b-dman-HEX-1:5"
      ]
     },
     "execution_count": 10,
     "metadata": {},
     "output_type": "execute_result"
    },
    {
     "name": "stdout",
     "output_type": "stream",
     "text": [
      "RES\n",
      "1b:b-dglc-HEX-1:5\n",
      "2s:n-acetyl\n",
      "3b:b-dglc-HEX-1:5\n",
      "4s:n-acetyl\n",
      "5b:b-dman-HEX-1:5\n",
      "6b:a-dman-HEX-1:5\n",
      "7b:a-dman-HEX-1:5\n",
      "LIN\n",
      "1:1d(2+1)2n\n",
      "2:1o(4+-1)3d\n",
      "3:3d(2+1)4n\n",
      "4:3o(4+-1)5d\n",
      "5:5o(3+-1)6d\n",
      "6:5o(6+-1)7d\n",
      "\n"
     ]
    }
   ],
   "source": [
    "glcnac1 = monosaccharides[\"GlcNAc\"]\n",
    "glcnac2 = monosaccharides[\"GlcNAc\"]\n",
    "\n",
    "glcnac1.add_monosaccharide(glcnac2, position=4)\n",
    "bdman = monosaccharides[\"bdMan\"]\n",
    "glcnac2.add_monosaccharide(bdman, position=4)\n",
    "adman1 = monosaccharides[\"adMan\"]\n",
    "bdman.add_monosaccharide(adman1, position=3)\n",
    "adman2 = monosaccharides[\"adMan\"]\n",
    "bdman.add_monosaccharide(adman2, position=6)\n",
    "\n",
    "n_linked_core = glypy.Glycan(root=glcnac1)\n",
    "print(n_linked_core)"
   ]
  },
  {
   "cell_type": "code",
   "execution_count": 11,
   "metadata": {
    "ExecuteTime": {
     "end_time": "2020-03-11T21:47:10.576414Z",
     "start_time": "2020-03-11T21:47:10.525706Z"
    }
   },
   "outputs": [
    {
     "data": {
      "text/plain": [
       "(RES 1b:b-dglc-HEX-1:5 2s:n-acetyl LIN 1:1d(2+1)2n: id=1  x=3.061616997868383e-17 mod=0,\n",
       " <matplotlib.axes._subplots.AxesSubplot at 0x7f6df3982a50>)"
      ]
     },
     "execution_count": 11,
     "metadata": {},
     "output_type": "execute_result"
    },
    {
     "data": {
      "image/png": "[encoded data removed]",
      "text/plain": [
       "<Figure size 432x288 with 1 Axes>"
      ]
     },
     "metadata": {
      "needs_background": "light"
     },
     "output_type": "display_data"
    }
   ],
   "source": [
    "plot(n_linked_core)"
   ]
  },
  {
   "cell_type": "code",
   "execution_count": 12,
   "metadata": {
    "ExecuteTime": {
     "end_time": "2020-03-11T21:47:10.588826Z",
     "start_time": "2020-03-11T21:47:10.580169Z"
    }
   },
   "outputs": [
    {
     "data": {
      "text/plain": [
       "'Ma6(Ma3)Mb4GNb4GNb'"
      ]
     },
     "execution_count": 12,
     "metadata": {},
     "output_type": "execute_result"
    }
   ],
   "source": [
    "glypy.io.linear_code.to_linear_code(n_linked_core)"
   ]
  },
  {
   "cell_type": "code",
   "execution_count": 13,
   "metadata": {
    "ExecuteTime": {
     "end_time": "2020-03-11T21:47:10.678048Z",
     "start_time": "2020-03-11T21:47:10.592355Z"
    }
   },
   "outputs": [
    {
     "data": {
      "text/plain": [
       "(RES 1b:b-dglc-HEX-1:5 2s:n-acetyl LIN 1:1d(2+1)2n: id=1  x=3.061616997868383e-17 mod=0,\n",
       " <matplotlib.axes._subplots.AxesSubplot at 0x7f6df382b0d0>)"
      ]
     },
     "execution_count": 13,
     "metadata": {},
     "output_type": "execute_result"
    },
    {
     "data": {
      "image/png": "[encoded data removed]",
      "text/plain": [
       "<Figure size 432x288 with 1 Axes>"
      ]
     },
     "metadata": {
      "needs_background": "light"
     },
     "output_type": "display_data"
    }
   ],
   "source": [
    "plot(glypy.io.linear_code.parse_linear_code('Ma6(Ma3)Mb4GNb4GNb'))"
   ]
  },
  {
   "cell_type": "code",
   "execution_count": 14,
   "metadata": {
    "ExecuteTime": {
     "end_time": "2020-03-11T21:47:10.687804Z",
     "start_time": "2020-03-11T21:47:10.681630Z"
    }
   },
   "outputs": [],
   "source": [
    "def gen(glycan):\n",
    "    '''\n",
    "    Abbreviation for \n",
    "      `glypy.io.linear_code.to_linear_code(glycan)`\n",
    "    '''\n",
    "    return glypy.io.linear_code.to_linear_code(glycan)\n",
    "\n",
    "def parse(linear_code_expression):\n",
    "    '''\n",
    "    Abbreviation for \n",
    "      `glypy.io.linear_code.parse_linear_code(linear_code_expression)`\n",
    "    '''\n",
    "    return glypy.io.linear_code.parse_linear_code(linear_code_expression)\n",
    "\n",
    "def parsePlot(linear_code_expression):\n",
    "    '''\n",
    "    Abbreviation for \n",
    "      `plot(glypy.io.linear_code.parse_linear_code(linear_code_expression))`\n",
    "    '''\n",
    "    plot(glypy.io.linear_code.parse_linear_code(linear_code_expression))"
   ]
  },
  {
   "cell_type": "code",
   "execution_count": 15,
   "metadata": {
    "ExecuteTime": {
     "end_time": "2020-03-11T21:47:10.734033Z",
     "start_time": "2020-03-11T21:47:10.691623Z"
    }
   },
   "outputs": [
    {
     "data": {
      "text/plain": [
       "'GN?'"
      ]
     },
     "execution_count": 15,
     "metadata": {},
     "output_type": "execute_result"
    },
    {
     "data": {
      "image/png": "[encoded data removed]",
      "text/plain": [
       "<Figure size 432x288 with 1 Axes>"
      ]
     },
     "metadata": {
      "needs_background": "light"
     },
     "output_type": "display_data"
    }
   ],
   "source": [
    "parsePlot('GN')\n",
    "GN_parsed = parse('GN');\n",
    "gen(GN_parsed)"
   ]
  },
  {
   "cell_type": "code",
   "execution_count": 16,
   "metadata": {
    "ExecuteTime": {
     "end_time": "2020-03-11T21:47:10.744496Z",
     "start_time": "2020-03-11T21:47:10.737619Z"
    }
   },
   "outputs": [
    {
     "data": {
      "text/plain": [
       "RES 1b:x-dglc-HEX-1:5 2s:n-acetyl LIN 1:1d(2+1)2n"
      ]
     },
     "execution_count": 16,
     "metadata": {},
     "output_type": "execute_result"
    }
   ],
   "source": [
    "GN_parsed"
   ]
  },
  {
   "cell_type": "code",
   "execution_count": 17,
   "metadata": {
    "ExecuteTime": {
     "end_time": "2020-03-11T21:47:10.788589Z",
     "start_time": "2020-03-11T21:47:10.748150Z"
    }
   },
   "outputs": [
    {
     "data": {
      "text/plain": [
       "'GNb'"
      ]
     },
     "execution_count": 17,
     "metadata": {},
     "output_type": "execute_result"
    },
    {
     "data": {
      "image/png": "[encoded data removed]",
      "text/plain": [
       "<Figure size 432x288 with 1 Axes>"
      ]
     },
     "metadata": {
      "needs_background": "light"
     },
     "output_type": "display_data"
    }
   ],
   "source": [
    "gen(monosaccharides[\"GlcNAc\"])\n",
    "parsePlot('GNb')"
   ]
  },
  {
   "cell_type": "markdown",
   "metadata": {},
   "source": [
    "## List of linear code expressions"
   ]
  },
  {
   "cell_type": "code",
   "execution_count": 18,
   "metadata": {
    "ExecuteTime": {
     "end_time": "2020-03-11T21:47:10.797621Z",
     "start_time": "2020-03-11T21:47:10.792212Z"
    }
   },
   "outputs": [],
   "source": [
    "#Banin et al., 2002, Fig. 1\n",
    "Bea2002Fig1 = ['GNb2Ma3(Ab4GNb2Ma6)Mb4GNb4(Fa6)GNa']\n",
    "\n",
    "Bea2002B21 = ['Fa4GNb3Ab4Gb']\n",
    "Bea2002B22 = ['GNb2Ma3(NNa3Ab3GNb2Ma6)Mb4GNb',\n",
    "              'Ab3ANb4(NNa3)Ab4Gb',\n",
    "              'Ab4(GNb4GNb3)(Ab4(Fa3)GNb6)Ab4Gb']\n",
    "Bea2002B23 = ['{nGa6Ga4(-Ab3-)Ub2Ha3Ha3Ha3}'] #glypy chokes on this\n",
    "Bea2002B24 = ['GNb3Ab#4-Trifluoroacetamidophenol'] #glypy chokes on this\n",
    "Bea2002s = [Bea2002Fig1, Bea2002B21, Bea2002B22]#, Bea2002B23, Bea2002B24]\n",
    "Banins = cat(Bea2002s)"
   ]
  },
  {
   "cell_type": "code",
   "execution_count": 19,
   "metadata": {
    "ExecuteTime": {
     "end_time": "2020-03-11T21:47:11.031423Z",
     "start_time": "2020-03-11T21:47:10.801101Z"
    }
   },
   "outputs": [
    {
     "name": "stdout",
     "output_type": "stream",
     "text": [
      "GNb2Ma3(Ab4GNb2Ma6)Mb4GNb4(Fa6)GNa\n",
      "------\n",
      "====\n",
      "Fa4GNb3Ab4Gb\n",
      "------\n",
      "====\n",
      "GNb2Ma3(NNa3Ab3GNb2Ma6)Mb4GNb\n",
      "------\n",
      "Ab3ANb4(NNa3)Ab4Gb\n",
      "------\n",
      "Ab4(GNb4GNb3)(Ab4(Fa3)GNb6)Ab4Gb\n",
      "------\n",
      "====\n"
     ]
    },
    {
     "data": {
      "image/png": "[encoded data removed]",
      "text/plain": [
       "<Figure size 432x288 with 1 Axes>"
      ]
     },
     "metadata": {
      "needs_background": "light"
     },
     "output_type": "display_data"
    },
    {
     "data": {
      "image/png": "[encoded data removed]",
      "text/plain": [
       "<Figure size 432x288 with 1 Axes>"
      ]
     },
     "metadata": {
      "needs_background": "light"
     },
     "output_type": "display_data"
    },
    {
     "data": {
      "image/png": "[encoded data removed]",
      "text/plain": [
       "<Figure size 432x288 with 1 Axes>"
      ]
     },
     "metadata": {
      "needs_background": "light"
     },
     "output_type": "display_data"
    },
    {
     "data": {
      "image/png": "[encoded data removed]",
      "text/plain": [
       "<Figure size 432x288 with 1 Axes>"
      ]
     },
     "metadata": {
      "needs_background": "light"
     },
     "output_type": "display_data"
    },
    {
     "data": {
      "image/png": "[encoded data removed]",
      "text/plain": [
       "<Figure size 432x288 with 1 Axes>"
      ]
     },
     "metadata": {
      "needs_background": "light"
     },
     "output_type": "display_data"
    }
   ],
   "source": [
    "for eachBea in Bea2002s:\n",
    "    for lce in eachBea:\n",
    "        print(lce)\n",
    "        parsePlot(lce)\n",
    "        print('------')\n",
    "    print('====')"
   ]
  },
  {
   "cell_type": "code",
   "execution_count": 20,
   "metadata": {
    "ExecuteTime": {
     "end_time": "2020-03-11T21:47:11.046457Z",
     "start_time": "2020-03-11T21:47:11.035040Z"
    }
   },
   "outputs": [
    {
     "data": {
      "text/plain": [
       "['Ma2Ma2Ma3(Ma2Ma3(Ma2Ma6)Ma6)Mb4GNb4GN',\n",
       " 'Ma2Ma2Ma3(Ma3(Ma2Ma6)Ma6)Mb4GNb4GN',\n",
       " 'Ga3Ma2Ma2Ma3(Ma2Ma3(Ma2Ma6)Ma6)Mb4GNb4GN']"
      ]
     },
     "execution_count": 20,
     "metadata": {},
     "output_type": "execute_result"
    },
    {
     "data": {
      "text/plain": [
       "['GNb2Ma3(GNb2Ma6)Mb4GNb4(Fa6)GN',\n",
       " 'NNa6Ab4GNb2Ma3(GNb4)(Ma3(Ma6)Ma6)Mb4GNb4GN']"
      ]
     },
     "execution_count": 20,
     "metadata": {},
     "output_type": "execute_result"
    }
   ],
   "source": [
    "#Krambeck et al. 2009, Fig. 1\n",
    "Kea2009Fig1 = [\n",
    "    'Ma2Ma2Ma3(Ma2Ma3(Ma2Ma6)Ma6)Mb4GNb4GN',\n",
    "    'Ma2Ma2Ma3(Ma3(Ma2Ma6)Ma6)Mb4GNb4GN',\n",
    "    'Ga3Ma2Ma2Ma3(Ma2Ma3(Ma2Ma6)Ma6)Mb4GNb4GN']\n",
    "Kea2009Fig1\n",
    "\n",
    "#Krambeck et al. 2009, Fig. 5\n",
    "Kea2009Fig5 = [\n",
    "    'GNb2Ma3(GNb2Ma6)Mb4GNb4(Fa6)GN',\n",
    "    'NNa6Ab4GNb2Ma3(GNb4)(Ma3(Ma6)Ma6)Mb4GNb4GN']\n",
    "Kea2009Fig5"
   ]
  },
  {
   "cell_type": "code",
   "execution_count": 21,
   "metadata": {
    "ExecuteTime": {
     "end_time": "2020-03-11T21:47:11.053841Z",
     "start_time": "2020-03-11T21:47:11.049927Z"
    }
   },
   "outputs": [],
   "source": [
    "LCEs = deepcopy(Kea2009Fig1) + deepcopy(Kea2009Fig5) + deepcopy(Banins)"
   ]
  },
  {
   "cell_type": "code",
   "execution_count": 22,
   "metadata": {
    "ExecuteTime": {
     "end_time": "2020-03-11T21:47:11.222014Z",
     "start_time": "2020-03-11T21:47:11.057294Z"
    }
   },
   "outputs": [
    {
     "name": "stdout",
     "output_type": "stream",
     "text": [
      "Ma2Ma2Ma3(Ma2Ma3(Ma2Ma6)Ma6)Mb4GNb4GN\n",
      "------\n",
      "Ma2Ma2Ma3(Ma3(Ma2Ma6)Ma6)Mb4GNb4GN\n",
      "------\n",
      "Ga3Ma2Ma2Ma3(Ma2Ma3(Ma2Ma6)Ma6)Mb4GNb4GN\n",
      "------\n"
     ]
    },
    {
     "data": {
      "image/png": "[encoded data removed]",
      "text/plain": [
       "<Figure size 432x288 with 1 Axes>"
      ]
     },
     "metadata": {
      "needs_background": "light"
     },
     "output_type": "display_data"
    },
    {
     "data": {
      "image/png": "[encoded data removed]",
      "text/plain": [
       "<Figure size 432x288 with 1 Axes>"
      ]
     },
     "metadata": {
      "needs_background": "light"
     },
     "output_type": "display_data"
    },
    {
     "data": {
      "image/png": "[encoded data removed]",
      "text/plain": [
       "<Figure size 432x288 with 1 Axes>"
      ]
     },
     "metadata": {
      "needs_background": "light"
     },
     "output_type": "display_data"
    }
   ],
   "source": [
    "for lce in Kea2009Fig1:\n",
    "    print(lce)\n",
    "    parsePlot(lce)\n",
    "    print('------')\n"
   ]
  },
  {
   "cell_type": "code",
   "execution_count": 23,
   "metadata": {
    "ExecuteTime": {
     "end_time": "2020-03-11T21:47:11.341109Z",
     "start_time": "2020-03-11T21:47:11.225721Z"
    }
   },
   "outputs": [
    {
     "name": "stdout",
     "output_type": "stream",
     "text": [
      "GNb2Ma3(GNb2Ma6)Mb4GNb4(Fa6)GN\n",
      "------\n",
      "NNa6Ab4GNb2Ma3(GNb4)(Ma3(Ma6)Ma6)Mb4GNb4GN\n",
      "------\n"
     ]
    },
    {
     "data": {
      "image/png": "[encoded data removed]",
      "text/plain": [
       "<Figure size 432x288 with 1 Axes>"
      ]
     },
     "metadata": {
      "needs_background": "light"
     },
     "output_type": "display_data"
    },
    {
     "data": {
      "image/png": "[encoded data removed]",
      "text/plain": [
       "<Figure size 432x288 with 1 Axes>"
      ]
     },
     "metadata": {
      "needs_background": "light"
     },
     "output_type": "display_data"
    }
   ],
   "source": [
    "for lce in Kea2009Fig5:\n",
    "    print(lce)\n",
    "    parsePlot(lce)\n",
    "    print('------')"
   ]
  },
  {
   "cell_type": "code",
   "execution_count": 24,
   "metadata": {
    "ExecuteTime": {
     "end_time": "2020-03-11T21:47:11.348910Z",
     "start_time": "2020-03-11T21:47:11.344865Z"
    }
   },
   "outputs": [],
   "source": [
    "# #Krambeck et al. 2017, Table 7, `'substrate' column\n",
    "# ['(Ma2Ma',\n",
    "# '(Ma3(Ma2Ma3(Ma6)Ma6)',\n",
    "# '(Ma3(Ma6)Ma6',\n",
    "# ]"
   ]
  },
  {
   "cell_type": "markdown",
   "metadata": {},
   "source": [
    "## Declare some syntactic categories"
   ]
  },
  {
   "cell_type": "code",
   "execution_count": 25,
   "metadata": {
    "ExecuteTime": {
     "end_time": "2020-03-11T21:47:11.359784Z",
     "start_time": "2020-03-11T21:47:11.352666Z"
    }
   },
   "outputs": [
    {
     "name": "stdout",
     "output_type": "stream",
     "text": [
      "['Hep', 'Ribose', 'NeuGc', 'Hex', 'bdGal', 'GlcN', 'Fru', '2-Amino-2-deoxyglucose', u'2-Keto-3-deoxynanonic acid', 'NeuAc2', 'Oct', 'Glucose', 'Psicose', 'Non', 'Psi', 'Allose', 'Neu5Ac', 'GlcNAc', 'MurNAc', 'Gal', 'Neu5Gc', 'Quinovose', 'ManAnhydro', 'Fucose', 'Tri', u'Neuraminic acid', 'Fructose', 'Ery', 'Gul', 'Rha', 'GalNac', 'Bac', 'Glucosamine', u'Muramic Acid', 'Dec', 'Tyv', 'Tyvelose', 'Kdn', 'Kdo', 'Oli', 'Sorbose', 'bdMan', 'Lyx', 'Rhamnose', 'Ara', 'Tag', 'Fructofuranose', u'Glucuronic Acid', 'Tal', 'Rib', 'Threose', 'Sug', 'Erythrose', 'GlcNA', 'Mur', 'Tet', 'Pen', 'Talose', 'Neu', 'Altose', 'Olivose', u'Neu5,9Ac2', 'MurNGc', 'Fuc', 'Thr', 'bdGlc', 'Xylose', 'GlcA', u'Sialic Acid', 'Sed', 'GalNAc', 'Qui', 'Arabinose', 'IdoA', 'NeuAc', 'Man', 'Galactose', u'Galacturonic Acid', 'Glc', 'GlcNac', 'KDN', 'N-Acetylglucosamine', 'adMan', 'Xulose', 'Mannose', 'GalA', 'Xul', 'Tagatose', 'Lyxose', 'HexNAc', 'All', 'Ido', u'Iduronic Acid', 'aMan', 'Bacillosamine', 'Sedulose', 'Sor', 'Alt', 'Xyl', 'Gulose']\n"
     ]
    },
    {
     "data": {
      "text/plain": [
       "100"
      ]
     },
     "execution_count": 25,
     "metadata": {},
     "output_type": "execute_result"
    }
   ],
   "source": [
    "print(list(monosaccharides))\n",
    "len(list(monosaccharides))"
   ]
  },
  {
   "cell_type": "code",
   "execution_count": 26,
   "metadata": {
    "ExecuteTime": {
     "end_time": "2020-03-11T21:47:11.509203Z",
     "start_time": "2020-03-11T21:47:11.363010Z"
    }
   },
   "outputs": [
    {
     "name": "stdout",
     "output_type": "stream",
     "text": [
      "-----\n",
      "Ga\n",
      "*\n",
      "----\n",
      "-----\n",
      "B?\n",
      "*\n",
      "----\n",
      "-----\n",
      "NJa\n",
      "*\n",
      "----\n",
      "-----\n",
      "Hex\n",
      "Linear Code does not support generic monosaccharide RES 1b:x-HEX-1:5\n",
      "!\n",
      "----\n",
      "-----\n",
      "Ab\n",
      "*\n",
      "----\n",
      "-----\n",
      "G[Q]b\n",
      "*\n",
      "----\n",
      "-----\n",
      "E?\n",
      "*\n",
      "----\n",
      "-----\n",
      "G[Q]b\n",
      "*\n",
      "----\n",
      "-----\n",
      "Ka\n",
      "*\n",
      "----\n",
      "-----\n",
      "NN[9N]a\n",
      "*\n",
      "----\n",
      "-----\n",
      "M?\n",
      "*\n",
      "----\n",
      "-----\n",
      "Gb\n",
      "*\n",
      "----\n",
      "-----\n",
      "E?\n",
      "*\n",
      "----\n",
      "-----\n",
      "Ga\n",
      "*\n",
      "----\n",
      "-----\n",
      "E?\n",
      "*\n",
      "----\n",
      "-----\n",
      "O?\n",
      "*\n",
      "----\n",
      "-----\n",
      "NNa\n",
      "*\n",
      "----\n",
      "-----\n",
      "GNb\n",
      "*\n",
      "----\n",
      "-----\n",
      "MurNAc\n",
      "'(r)_lactate'\n",
      "!\n",
      "----\n",
      "-----\n",
      "Ab\n",
      "*\n",
      "----\n",
      "-----\n",
      "NJa\n",
      "*\n",
      "----\n",
      "-----\n",
      "G?\n",
      "*\n",
      "----\n",
      "-----\n",
      "ManAnhydro\n",
      "'anhydro'\n",
      "!\n",
      "----\n",
      "-----\n",
      "Fa\n",
      "*\n",
      "----\n",
      "-----\n",
      "Tri\n",
      "Linear Code does not support generic monosaccharide RES 1b:x-TRI-x:x\n",
      "!\n",
      "----\n",
      "-----\n",
      "N[5Q]?\n",
      "*\n",
      "----\n",
      "-----\n",
      "E?\n",
      "*\n",
      "----\n",
      "-----\n",
      "G?\n",
      "*\n",
      "----\n",
      "-----\n",
      "G?\n",
      "*\n",
      "----\n",
      "-----\n",
      "H?\n",
      "*\n",
      "----\n",
      "-----\n",
      "ANb\n",
      "*\n",
      "----\n",
      "-----\n",
      "H[2Q, 4Q]a\n",
      "*\n",
      "----\n",
      "-----\n",
      "G[Q]b\n",
      "*\n",
      "----\n",
      "-----\n",
      "Muramic Acid\n",
      "'(r)_lactate'\n",
      "!\n",
      "----\n",
      "-----\n",
      "Dec\n",
      "Linear Code does not support generic monosaccharide RES 1b:x-DEC-x:x\n",
      "!\n",
      "----\n",
      "-----\n",
      "G?\n",
      "*\n",
      "----\n",
      "-----\n",
      "G?\n",
      "*\n",
      "----\n",
      "-----\n",
      "Ka\n",
      "*\n",
      "----\n",
      "-----\n",
      "W?\n",
      "*\n",
      "----\n",
      "-----\n",
      "G?\n",
      "*\n",
      "----\n",
      "-----\n",
      "E?\n",
      "*\n",
      "----\n",
      "-----\n",
      "Mb\n",
      "*\n",
      "----\n",
      "-----\n",
      "X?\n",
      "*\n",
      "----\n",
      "-----\n",
      "H?\n",
      "*\n",
      "----\n",
      "-----\n",
      "R?\n",
      "*\n",
      "----\n",
      "-----\n",
      "E?\n",
      "*\n",
      "----\n",
      "-----\n",
      "E?\n",
      "*\n",
      "----\n",
      "-----\n",
      "Ub\n",
      "*\n",
      "----\n",
      "-----\n",
      "G?\n",
      "*\n",
      "----\n",
      "-----\n",
      "B?\n",
      "*\n",
      "----\n",
      "-----\n",
      "G?\n",
      "*\n",
      "----\n",
      "-----\n",
      "Sug\n",
      "Linear Code does not support generic monosaccharide RES 1b:x-SUG-0:0\n",
      "!\n",
      "----\n",
      "-----\n",
      "G?\n",
      "*\n",
      "----\n",
      "-----\n",
      "GNb\n",
      "*\n",
      "----\n",
      "-----\n",
      "Mur\n",
      "'(r)_lactate'\n",
      "!\n",
      "----\n",
      "-----\n",
      "Tet\n",
      "Linear Code does not support generic monosaccharide RES 1b:x-TET-x:x\n",
      "!\n",
      "----\n",
      "-----\n",
      "Pen\n",
      "Linear Code does not support generic monosaccharide RES 1b:x-PEN-1:4\n",
      "!\n",
      "----\n",
      "-----\n",
      "G?\n",
      "*\n",
      "----\n",
      "-----\n",
      "N[5Q]?\n",
      "*\n",
      "----\n",
      "-----\n",
      "G?\n",
      "*\n",
      "----\n",
      "-----\n",
      "G?\n",
      "*\n",
      "----\n",
      "-----\n",
      "NN[9N]a\n",
      "*\n",
      "----\n",
      "-----\n",
      "MurNGc\n",
      "'n_glycolyl'\n",
      "!\n",
      "----\n",
      "-----\n",
      "Fa\n",
      "*\n",
      "----\n",
      "-----\n",
      "G?\n",
      "*\n",
      "----\n",
      "-----\n",
      "Gb\n",
      "*\n",
      "----\n",
      "-----\n",
      "X?\n",
      "*\n",
      "----\n",
      "-----\n",
      "Ub\n",
      "*\n",
      "----\n",
      "-----\n",
      "NNa\n",
      "*\n",
      "----\n",
      "-----\n",
      "E?\n",
      "*\n",
      "----\n",
      "-----\n",
      "ANb\n",
      "*\n",
      "----\n",
      "-----\n",
      "G?\n",
      "*\n",
      "----\n",
      "-----\n",
      "R?\n",
      "*\n",
      "----\n",
      "-----\n",
      "I?\n",
      "*\n",
      "----\n",
      "-----\n",
      "NNa\n",
      "*\n",
      "----\n",
      "-----\n",
      "Mb\n",
      "*\n",
      "----\n",
      "-----\n",
      "Ab\n",
      "*\n",
      "----\n",
      "-----\n",
      "L?\n",
      "*\n",
      "----\n",
      "-----\n",
      "Gb\n",
      "*\n",
      "----\n",
      "-----\n",
      "GNb\n",
      "*\n",
      "----\n",
      "-----\n",
      "Ka\n",
      "*\n",
      "----\n",
      "-----\n",
      "ANb\n",
      "*\n",
      "----\n",
      "-----\n",
      "Ma\n",
      "*\n",
      "----\n",
      "-----\n",
      "X?\n",
      "*\n",
      "----\n",
      "-----\n",
      "Mb\n",
      "*\n",
      "----\n",
      "-----\n",
      "L?\n",
      "*\n",
      "----\n",
      "-----\n",
      "X?\n",
      "*\n",
      "----\n",
      "-----\n",
      "E?\n",
      "*\n",
      "----\n",
      "-----\n",
      "X?\n",
      "*\n",
      "----\n",
      "-----\n",
      "HexNAc\n",
      "Linear Code does not support generic monosaccharide RES 1b:x-HEX-1:5 2s:n-acetyl LIN 1:1d(2+1)2n\n",
      "!\n",
      "----\n",
      "-----\n",
      "O?\n",
      "*\n",
      "----\n",
      "-----\n",
      "I?\n",
      "*\n",
      "----\n",
      "-----\n",
      "I?\n",
      "*\n",
      "----\n",
      "-----\n",
      "Ma\n",
      "*\n",
      "----\n",
      "-----\n",
      "H[2Q, 4Q]a\n",
      "*\n",
      "----\n",
      "-----\n",
      "E?\n",
      "*\n",
      "----\n",
      "-----\n",
      "E?\n",
      "*\n",
      "----\n",
      "-----\n",
      "G?\n",
      "*\n",
      "----\n",
      "-----\n",
      "X?\n",
      "*\n",
      "----\n",
      "-----\n",
      "G?\n",
      "*\n",
      "----\n"
     ]
    }
   ],
   "source": [
    "MS_codes = set()\n",
    "has_no_code = set()\n",
    "for each in list(monosaccharides):\n",
    "    print('-----')\n",
    "    try:\n",
    "        print(gen(monosaccharides.get(each)))\n",
    "        print('*')\n",
    "        result = gen(monosaccharides.get(each))\n",
    "        MS_codes.add(result)\n",
    "        if result[-1] == '?':\n",
    "            MS_codes.add(result[:-1])\n",
    "    except Exception as e:\n",
    "        print(each)\n",
    "        print(e)\n",
    "        has_no_code.add(each)\n",
    "        print('!')\n",
    "    print('----')"
   ]
  },
  {
   "cell_type": "code",
   "execution_count": 27,
   "metadata": {
    "ExecuteTime": {
     "end_time": "2020-03-11T21:47:11.519876Z",
     "start_time": "2020-03-11T21:47:11.512807Z"
    }
   },
   "outputs": [
    {
     "data": {
      "text/plain": [
       "39"
      ]
     },
     "execution_count": 27,
     "metadata": {},
     "output_type": "execute_result"
    },
    {
     "name": "stdout",
     "output_type": "stream",
     "text": [
      "set(['NJa', 'H[2Q, 4Q]a', 'NNa', 'O?', 'L?', 'Ma', 'M?', 'N[5Q]?', 'I?', 'Fa', 'G?', 'GNb', 'N[5Q]', 'E?', 'X?', 'Ub', 'Ka', 'B', 'E', 'G', 'Mb', 'I', 'H', 'R?', 'M', 'L', 'O', 'Ab', 'W', 'X', 'NN[9N]a', 'ANb', 'G[Q]b', 'H?', 'R', 'Gb', 'Ga', 'W?', 'B?'])\n",
      "set(['Tri', 'Sug', 'MurNGc', 'Mur', 'Hex', 'MurNAc', 'Pen', 'ManAnhydro', u'Muramic Acid', 'Dec', 'Tet', 'HexNAc'])\n"
     ]
    }
   ],
   "source": [
    "len(MS_codes)\n",
    "print(MS_codes)\n",
    "print(has_no_code)"
   ]
  },
  {
   "cell_type": "code",
   "execution_count": 28,
   "metadata": {
    "ExecuteTime": {
     "end_time": "2020-03-11T21:47:11.526930Z",
     "start_time": "2020-03-11T21:47:11.522686Z"
    }
   },
   "outputs": [
    {
     "name": "stdout",
     "output_type": "stream",
     "text": [
      "['O?', 'L?', 'M?', 'N[5Q]?', 'I?', 'G?', 'E?', 'X?', 'R?', 'H?', 'W?', 'B?']\n"
     ]
    }
   ],
   "source": [
    "print(list(filter(lambda c: '?' in c, MS_codes)))"
   ]
  },
  {
   "cell_type": "code",
   "execution_count": 29,
   "metadata": {
    "ExecuteTime": {
     "end_time": "2020-03-11T21:47:11.534531Z",
     "start_time": "2020-03-11T21:47:11.530457Z"
    }
   },
   "outputs": [],
   "source": [
    "MS_codes.add('GN')\n",
    "MS_codes.add('GNa')"
   ]
  },
  {
   "cell_type": "code",
   "execution_count": 30,
   "metadata": {
    "ExecuteTime": {
     "end_time": "2020-03-11T21:47:11.541845Z",
     "start_time": "2020-03-11T21:47:11.538115Z"
    }
   },
   "outputs": [],
   "source": [
    "MSs = MS_codes"
   ]
  },
  {
   "cell_type": "code",
   "execution_count": 31,
   "metadata": {
    "ExecuteTime": {
     "end_time": "2020-03-11T21:47:11.553011Z",
     "start_time": "2020-03-11T21:47:11.545254Z"
    }
   },
   "outputs": [
    {
     "data": {
      "text/plain": [
       "{'1', '2', '3', '4', '5', '6', '7', '8', '9'}"
      ]
     },
     "execution_count": 31,
     "metadata": {},
     "output_type": "execute_result"
    }
   ],
   "source": [
    "bonds = set(map(str, range(1,10)))\n",
    "# bonds =  set(map(partial(str_join, ''), \n",
    "#                  product(\"ab\", \n",
    "#                          map(str, \n",
    "#                              range(1,10)))))\n",
    "bonds"
   ]
  },
  {
   "cell_type": "markdown",
   "metadata": {},
   "source": [
    "# Bottom-up parsing"
   ]
  },
  {
   "cell_type": "markdown",
   "metadata": {},
   "source": [
    "The code here supports looking at a linear code expression and identifying substrings that match the substitution rules for some wildcard operator."
   ]
  },
  {
   "cell_type": "markdown",
   "metadata": {},
   "source": [
    "## Parenthesis checking"
   ]
  },
  {
   "cell_type": "markdown",
   "metadata": {},
   "source": [
    "Code for parsing Dyck languages and variants related to wild-card operators."
   ]
  },
  {
   "cell_type": "code",
   "execution_count": 32,
   "metadata": {
    "ExecuteTime": {
     "end_time": "2020-03-11T21:47:11.562749Z",
     "start_time": "2020-03-11T21:47:11.556677Z"
    }
   },
   "outputs": [],
   "source": [
    "def has_balanced_parens(s):\n",
    "    '''\n",
    "    Indicates whether the string in question has balanced parentheses.\n",
    "    '''\n",
    "    paren_stack = []\n",
    "    for x in s:\n",
    "        if x == '(':\n",
    "            paren_stack.append(x)\n",
    "        if x == ')':\n",
    "            if len(paren_stack) == 0:\n",
    "                return False\n",
    "#             top = paren_stack[-1]\n",
    "            paren_stack.pop()\n",
    "    return len(paren_stack) == 0"
   ]
  },
  {
   "cell_type": "code",
   "execution_count": 33,
   "metadata": {
    "ExecuteTime": {
     "end_time": "2020-03-11T21:47:11.570539Z",
     "start_time": "2020-03-11T21:47:11.566326Z"
    }
   },
   "outputs": [],
   "source": [
    "positive_test_cases_balanced = ['', '()', '(())', '()()', '()(())']\n",
    "negative_test_cases_balanced = ['(', ')', '())', '(()', '(()(', '))']"
   ]
  },
  {
   "cell_type": "code",
   "execution_count": 34,
   "metadata": {
    "ExecuteTime": {
     "end_time": "2020-03-11T21:47:11.579635Z",
     "start_time": "2020-03-11T21:47:11.574165Z"
    }
   },
   "outputs": [
    {
     "name": "stdout",
     "output_type": "stream",
     "text": [
      ", True\n",
      "(), True\n",
      "(()), True\n",
      "()(), True\n",
      "()(()), True\n",
      "---\n",
      "(, False\n",
      "), False\n",
      "()), False\n",
      "((), False\n",
      "(()(, False\n",
      ")), False\n"
     ]
    }
   ],
   "source": [
    "for c in positive_test_cases_balanced:\n",
    "    print(\"{0}, {1}\".format(c, has_balanced_parens(c)))\n",
    "print('---')\n",
    "for c in negative_test_cases_balanced:\n",
    "    print(\"{0}, {1}\".format(c, has_balanced_parens(c)))"
   ]
  },
  {
   "cell_type": "code",
   "execution_count": 35,
   "metadata": {
    "ExecuteTime": {
     "end_time": "2020-03-11T21:47:11.589197Z",
     "start_time": "2020-03-11T21:47:11.583261Z"
    }
   },
   "outputs": [],
   "source": [
    "def every_left_paren_has_a_right_paren(s):\n",
    "    '''\n",
    "    Indicates whether every open parenthesis has a matching close parenthesis.\n",
    "    '''\n",
    "    paren_stack = []\n",
    "    for x in s:\n",
    "        if x == '(':\n",
    "            paren_stack.append(x)\n",
    "        if x == ')':\n",
    "#             if len(paren_stack) == 0:\n",
    "#                 return False\n",
    "#             top = paren_stack[-1]\n",
    "            if len(paren_stack) > 0:\n",
    "                paren_stack.pop()\n",
    "    return len(paren_stack) == 0"
   ]
  },
  {
   "cell_type": "code",
   "execution_count": 36,
   "metadata": {
    "ExecuteTime": {
     "end_time": "2020-03-11T21:47:11.604692Z",
     "start_time": "2020-03-11T21:47:11.592952Z"
    }
   },
   "outputs": [
    {
     "data": {
      "text/plain": [
       "['', '()', '(())', '()()', '()(())', ')', '())', '))']"
      ]
     },
     "execution_count": 36,
     "metadata": {},
     "output_type": "execute_result"
    },
    {
     "data": {
      "text/plain": [
       "['(', '(()', '()(', '(()(', ')(()']"
      ]
     },
     "execution_count": 36,
     "metadata": {},
     "output_type": "execute_result"
    }
   ],
   "source": [
    "positive_test_cases_for_every_left_a_right = deepcopy(positive_test_cases_balanced)\n",
    "positive_test_cases_for_every_left_a_right.extend([')', '())', '))'])\n",
    "positive_test_cases_for_every_left_a_right\n",
    "\n",
    "negative_test_cases_for_every_left_a_right = ['(', '(()', '()(', '(()(',')(()']\n",
    "negative_test_cases_for_every_left_a_right"
   ]
  },
  {
   "cell_type": "code",
   "execution_count": 37,
   "metadata": {
    "ExecuteTime": {
     "end_time": "2020-03-11T21:47:11.613585Z",
     "start_time": "2020-03-11T21:47:11.608256Z"
    }
   },
   "outputs": [
    {
     "name": "stdout",
     "output_type": "stream",
     "text": [
      ", True\n",
      "(), True\n",
      "(()), True\n",
      "()(), True\n",
      "()(()), True\n",
      "), True\n",
      "()), True\n",
      ")), True\n",
      "---\n",
      "(, False\n",
      "((), False\n",
      "()(, False\n",
      "(()(, False\n",
      ")((), False\n"
     ]
    }
   ],
   "source": [
    "for c in positive_test_cases_for_every_left_a_right:\n",
    "    print(\"{0}, {1}\".format(c, every_left_paren_has_a_right_paren(c)))\n",
    "print('---')    \n",
    "for c in negative_test_cases_for_every_left_a_right:\n",
    "    print(\"{0}, {1}\".format(c, every_left_paren_has_a_right_paren(c)))"
   ]
  },
  {
   "cell_type": "markdown",
   "metadata": {},
   "source": [
    "## String manipulation boilerplate"
   ]
  },
  {
   "cell_type": "markdown",
   "metadata": {},
   "source": [
    "### Generating contiguous subsequences"
   ]
  },
  {
   "cell_type": "code",
   "execution_count": 38,
   "metadata": {
    "ExecuteTime": {
     "end_time": "2020-03-11T21:47:11.623907Z",
     "start_time": "2020-03-11T21:47:11.617222Z"
    }
   },
   "outputs": [],
   "source": [
    "def generate_subsequences(s, as_generator=False, with_contexts=False):\n",
    "    '''\n",
    "    Given a sequence of length n, generates all O(n^2) contiguous subsequences \n",
    "    of s.\n",
    "    \n",
    "    If with_contexts is True, returns a sequence of 3-tuples:\n",
    "        ...(left context, subsequence, right context)...\n",
    "    '''\n",
    "    c = with_contexts\n",
    "    subseqs = (s[i:j] if not c else (s[:i], s[i:j], s[j:])\n",
    "               for i in range(len(s)) \n",
    "               for j in range(i+1,len(s)+1))\n",
    "    if as_generator:\n",
    "        return subseqs\n",
    "    else:\n",
    "        return tuple(subseqs)"
   ]
  },
  {
   "cell_type": "code",
   "execution_count": 39,
   "metadata": {
    "ExecuteTime": {
     "end_time": "2020-03-11T21:47:11.636161Z",
     "start_time": "2020-03-11T21:47:11.626593Z"
    }
   },
   "outputs": [
    {
     "name": "stdout",
     "output_type": "stream",
     "text": [
      ": ()\n",
      "a: ('a',)\n",
      "ab: ('a', 'ab', 'b')\n",
      "abc: ('a', 'ab', 'abc', 'b', 'bc', 'c')\n",
      "abcd: ('a', 'ab', 'abc', 'abcd', 'b', 'bc', 'bcd', 'c', 'cd', 'd')\n"
     ]
    },
    {
     "data": {
      "text/plain": [
       "((1,), (1, 2), (1, 2, 3), (2,), (2, 3), (3,))"
      ]
     },
     "execution_count": 39,
     "metadata": {},
     "output_type": "execute_result"
    },
    {
     "name": "stdout",
     "output_type": "stream",
     "text": [
      ": ()\n",
      "a: (('', 'a', ''),)\n",
      "ab: (('', 'a', 'b'), ('', 'ab', ''), ('a', 'b', ''))\n",
      "abc: (('', 'a', 'bc'), ('', 'ab', 'c'), ('', 'abc', ''), ('a', 'b', 'c'), ('a', 'bc', ''), ('ab', 'c', ''))\n",
      "abcd: (('', 'a', 'bcd'), ('', 'ab', 'cd'), ('', 'abc', 'd'), ('', 'abcd', ''), ('a', 'b', 'cd'), ('a', 'bc', 'd'), ('a', 'bcd', ''), ('ab', 'c', 'd'), ('ab', 'cd', ''), ('abc', 'd', ''))\n"
     ]
    }
   ],
   "source": [
    "for each in ['', 'a', 'ab', 'abc', 'abcd']:\n",
    "    print(\"{0}: {1}\".format(each, generate_subsequences(each)))\n",
    "    \n",
    "generate_subsequences((1,2,3))\n",
    "\n",
    "for each in ['', 'a', 'ab', 'abc', 'abcd']:\n",
    "    print(\"{0}: {1}\".format(each, generate_subsequences(each, with_contexts=True)))"
   ]
  },
  {
   "cell_type": "markdown",
   "metadata": {},
   "source": [
    "### Generating prefixes and suffixes"
   ]
  },
  {
   "cell_type": "code",
   "execution_count": 40,
   "metadata": {
    "ExecuteTime": {
     "end_time": "2020-03-11T21:47:11.649898Z",
     "start_time": "2020-03-11T21:47:11.639614Z"
    }
   },
   "outputs": [],
   "source": [
    "to_str = partial(str_join, '')\n",
    "rev_to_str = compose(to_str, reversed, to_str)\n",
    "\n",
    "def generate_prefixes(s, as_generator=False):\n",
    "    l = len(s)\n",
    "    prefs = (s[:i] for i in range(l+1))\n",
    "    if as_generator:\n",
    "        return prefs\n",
    "    return list(prefs)\n",
    "\n",
    "def generate_suffixes(s, as_generator=False):\n",
    "    s_prime = to_str(reversed(s)) if type(s) == str else tuple(reversed(s))\n",
    "    if as_generator:\n",
    "        if type(s) == str:\n",
    "            return (rev_to_str(each) \n",
    "                    for each in generate_prefixes(s_prime, as_generator))\n",
    "        else:\n",
    "            return (tuple(reversed(each)) \n",
    "                    for each in generate_prefixes(s_prime, as_generator))\n",
    "    else:\n",
    "        if type(s) == str:\n",
    "            return list(map(rev_to_str, generate_prefixes(s_prime, as_generator)))\n",
    "        else:\n",
    "            return list(map(lambda s: tuple(reversed(s)),\n",
    "                            generate_prefixes(s_prime, as_generator)))"
   ]
  },
  {
   "cell_type": "code",
   "execution_count": 41,
   "metadata": {
    "ExecuteTime": {
     "end_time": "2020-03-11T21:47:11.667405Z",
     "start_time": "2020-03-11T21:47:11.653696Z"
    }
   },
   "outputs": [
    {
     "name": "stdout",
     "output_type": "stream",
     "text": [
      ": ['']\n",
      "a: ['', 'a']\n",
      "ab: ['', 'a', 'ab']\n",
      "abc: ['', 'a', 'ab', 'abc']\n",
      "abcd: ['', 'a', 'ab', 'abc', 'abcd']\n"
     ]
    },
    {
     "data": {
      "text/plain": [
       "[(), (1,), (1, 2), (1, 2, 3)]"
      ]
     },
     "execution_count": 41,
     "metadata": {},
     "output_type": "execute_result"
    },
    {
     "name": "stdout",
     "output_type": "stream",
     "text": [
      "-----\n",
      ": ['']\n",
      "a: ['', 'a']\n",
      "ab: ['', 'b', 'ab']\n",
      "abc: ['', 'c', 'bc', 'abc']\n",
      "abcd: ['', 'd', 'cd', 'bcd', 'abcd']\n"
     ]
    },
    {
     "data": {
      "text/plain": [
       "[(), (3,), (2, 3), (1, 2, 3)]"
      ]
     },
     "execution_count": 41,
     "metadata": {},
     "output_type": "execute_result"
    }
   ],
   "source": [
    "for each in ['', 'a', 'ab', 'abc', 'abcd']:\n",
    "    print(\"{0}: {1}\".format(each, generate_prefixes(each)))\n",
    "#     print(\"{0}: {1}\".format(each, list(generate_prefixes(each, True))))\n",
    "    \n",
    "generate_prefixes((1,2,3))\n",
    "\n",
    "print('-----')\n",
    "\n",
    "for each in ['', 'a', 'ab', 'abc', 'abcd']:\n",
    "    print(\"{0}: {1}\".format(each, generate_suffixes(each)))\n",
    "#     print(\"{0}: {1}\".format(each, generate_suffixes(each, True)))\n",
    "#     print(\"{0}: {1}\".format(each, list(generate_suffixes(each, True))))\n",
    "generate_suffixes((1,2,3))"
   ]
  },
  {
   "cell_type": "markdown",
   "metadata": {},
   "source": [
    "### Deprefixing and desuffixing"
   ]
  },
  {
   "cell_type": "code",
   "execution_count": 42,
   "metadata": {
    "ExecuteTime": {
     "end_time": "2020-03-11T21:47:11.680078Z",
     "start_time": "2020-03-11T21:47:11.671123Z"
    }
   },
   "outputs": [],
   "source": [
    "def deprefix(prefix, s, prefix_not_found_behavior='identity'):\n",
    "    '''\n",
    "    Left-inverse of sequence concatenation: returns p\\s, where p = prefix.\n",
    "    \n",
    "    Behavior when p is not a prefix of s is governed by \n",
    "    `prefix_not_found_behavior`:\n",
    "      - 'identity' -> s\n",
    "      - 'empty'    -> '' if s is a string else the empty tuple\n",
    "      - 'null'     -> None\n",
    "    '''\n",
    "    l_prefix = len(prefix)\n",
    "    l_s = len(s)\n",
    "    prefix_match = False\n",
    "    quotient = ''\n",
    "    \n",
    "    if l_prefix <= l_s:\n",
    "        prefix_match = s[:l_prefix] == prefix\n",
    "    \n",
    "    if prefix_match:\n",
    "        quotient = s[l_prefix:]\n",
    "        return quotient\n",
    "    \n",
    "    if prefix_not_found_behavior == 'identity':\n",
    "        return s\n",
    "    elif prefix_not_found_behavior == 'empty':\n",
    "        return '' if type(s) == str else tuple()\n",
    "    elif prefix_not_found_behavior == 'null':\n",
    "        return None\n",
    "    else:\n",
    "        raise Exception(\"behavior must be 'identity', 'empty', or 'null': got {0}\".format(prefix_not_found_behavior))"
   ]
  },
  {
   "cell_type": "code",
   "execution_count": 43,
   "metadata": {
    "ExecuteTime": {
     "end_time": "2020-03-11T21:47:11.708629Z",
     "start_time": "2020-03-11T21:47:11.682690Z"
    }
   },
   "outputs": [
    {
     "data": {
      "text/plain": [
       "'bar'"
      ]
     },
     "execution_count": 43,
     "metadata": {},
     "output_type": "execute_result"
    },
    {
     "data": {
      "text/plain": [
       "'foobar'"
      ]
     },
     "execution_count": 43,
     "metadata": {},
     "output_type": "execute_result"
    },
    {
     "data": {
      "text/plain": [
       "''"
      ]
     },
     "execution_count": 43,
     "metadata": {},
     "output_type": "execute_result"
    },
    {
     "data": {
      "text/plain": [
       "[2, 3]"
      ]
     },
     "execution_count": 43,
     "metadata": {},
     "output_type": "execute_result"
    },
    {
     "data": {
      "text/plain": [
       "[1, 2, 3]"
      ]
     },
     "execution_count": 43,
     "metadata": {},
     "output_type": "execute_result"
    },
    {
     "data": {
      "text/plain": [
       "()"
      ]
     },
     "execution_count": 43,
     "metadata": {},
     "output_type": "execute_result"
    }
   ],
   "source": [
    "deprefix('foo', 'foobar')\n",
    "deprefix('bar', 'foobar', 'identity')\n",
    "deprefix('bar', 'foobar', 'empty')\n",
    "deprefix('bar', 'foobar', 'null')\n",
    "\n",
    "deprefix([1], [1,2,3])\n",
    "deprefix([2], [1,2,3], 'identity')\n",
    "deprefix([2], [1,2,3], 'empty')\n",
    "deprefix([2], [1,2,3], 'null')"
   ]
  },
  {
   "cell_type": "code",
   "execution_count": 44,
   "metadata": {
    "ExecuteTime": {
     "end_time": "2020-03-11T21:47:11.717354Z",
     "start_time": "2020-03-11T21:47:11.710980Z"
    }
   },
   "outputs": [],
   "source": [
    "def desuffix(suffix, s, suffix_not_found_behavior='identity'):\n",
    "    '''\n",
    "    Right-inverse of sequence concatenation: returns s/f where f = suffix.\n",
    "    \n",
    "    Behavior when f is not a suffix of s is governed by \n",
    "    `suffix_not_found_behavior`:\n",
    "      - 'identity' -> s\n",
    "      - 'empty'    -> '' if s is a string else the empty tuple\n",
    "      - 'null'     -> None\n",
    "    '''\n",
    "    if type(s) == str:\n",
    "        result = deprefix(rev_to_str(suffix), \n",
    "                          rev_to_str(s), \n",
    "                          suffix_not_found_behavior)\n",
    "    if type(s) == str and result is not None:\n",
    "        return rev_to_str(result)\n",
    "    if type(s) != str:\n",
    "        result = deprefix(tuple(reversed(suffix)), \n",
    "                          tuple(reversed(s)), \n",
    "                          suffix_not_found_behavior)\n",
    "    if type(s) != str and result is not None:\n",
    "        return tuple(reversed(result))\n",
    "    return result"
   ]
  },
  {
   "cell_type": "code",
   "execution_count": 45,
   "metadata": {
    "ExecuteTime": {
     "end_time": "2020-03-11T21:47:11.745695Z",
     "start_time": "2020-03-11T21:47:11.721332Z"
    }
   },
   "outputs": [
    {
     "data": {
      "text/plain": [
       "'foo'"
      ]
     },
     "execution_count": 45,
     "metadata": {},
     "output_type": "execute_result"
    },
    {
     "data": {
      "text/plain": [
       "'foobar'"
      ]
     },
     "execution_count": 45,
     "metadata": {},
     "output_type": "execute_result"
    },
    {
     "data": {
      "text/plain": [
       "''"
      ]
     },
     "execution_count": 45,
     "metadata": {},
     "output_type": "execute_result"
    },
    {
     "data": {
      "text/plain": [
       "(1, 2)"
      ]
     },
     "execution_count": 45,
     "metadata": {},
     "output_type": "execute_result"
    },
    {
     "data": {
      "text/plain": [
       "(1, 2, 3)"
      ]
     },
     "execution_count": 45,
     "metadata": {},
     "output_type": "execute_result"
    },
    {
     "data": {
      "text/plain": [
       "()"
      ]
     },
     "execution_count": 45,
     "metadata": {},
     "output_type": "execute_result"
    }
   ],
   "source": [
    "desuffix('bar', 'foobar')\n",
    "desuffix('foo', 'foobar', 'identity')\n",
    "desuffix('foo', 'foobar', 'empty')\n",
    "desuffix('foo', 'foobar', 'null')\n",
    "\n",
    "desuffix([3], [1,2,3])\n",
    "desuffix([2], [1,2,3], 'identity')\n",
    "desuffix([2], [1,2,3], 'empty')\n",
    "desuffix([2], [1,2,3], 'null')"
   ]
  },
  {
   "cell_type": "markdown",
   "metadata": {},
   "source": [
    "### Circumfixing"
   ]
  },
  {
   "cell_type": "code",
   "execution_count": 46,
   "metadata": {
    "ExecuteTime": {
     "end_time": "2020-03-11T21:47:11.752338Z",
     "start_time": "2020-03-11T21:47:11.748128Z"
    }
   },
   "outputs": [],
   "source": [
    "def circumfix(prefix, suffix, s):\n",
    "    '''\n",
    "    Returns \n",
    "        prefix + s + suffix\n",
    "    '''\n",
    "    return prefix + s + suffix"
   ]
  },
  {
   "cell_type": "code",
   "execution_count": 47,
   "metadata": {
    "ExecuteTime": {
     "end_time": "2020-03-11T21:47:11.763110Z",
     "start_time": "2020-03-11T21:47:11.755819Z"
    }
   },
   "outputs": [
    {
     "data": {
      "text/plain": [
       "'FOObazBAR'"
      ]
     },
     "execution_count": 47,
     "metadata": {},
     "output_type": "execute_result"
    }
   ],
   "source": [
    "circumfix('FOO', 'BAR', 'baz')"
   ]
  },
  {
   "cell_type": "markdown",
   "metadata": {},
   "source": [
    "### Decircumfixing"
   ]
  },
  {
   "cell_type": "code",
   "execution_count": 48,
   "metadata": {
    "ExecuteTime": {
     "end_time": "2020-03-11T21:47:11.775959Z",
     "start_time": "2020-03-11T21:47:11.766491Z"
    }
   },
   "outputs": [],
   "source": [
    "def decircumfix(prefix, suffix, s, circumfix_not_found_behavior='identity'):\n",
    "    '''\n",
    "    Inverse of circumfix(prefix, suffix, u): returns u = (prefix\\s)/suffix.\n",
    "    \n",
    "    Behavior when s does not have (prefix, suffix) as a circumfix is governed by\n",
    "    `circumfix_not_found_behavior`:\n",
    "      - 'identity' -> s\n",
    "      - 'empty'    -> '' if s is a string else the empty tuple\n",
    "      - 'null'     -> None\n",
    "    '''\n",
    "    has_circumfix = False\n",
    "    \n",
    "    deprefixed = deprefix(prefix, s, circumfix_not_found_behavior)\n",
    "    \n",
    "    if deprefixed is None:\n",
    "        return None\n",
    "    \n",
    "    if circumfix_not_found_behavior == 'identity' and prefix != '':\n",
    "        has_circumfix = deprefixed != s\n",
    "    if not has_circumfix and circumfix_not_found_behavior == 'identity':\n",
    "        return s\n",
    "    \n",
    "    decircumfixed = desuffix(suffix, deprefixed, circumfix_not_found_behavior)\n",
    "    \n",
    "    if circumfix_not_found_behavior == 'identity' and suffix != '':\n",
    "        has_circumfix = decircumfixed != deprefixed\n",
    "    if not has_circumfix and circumfix_not_found_behavior == 'identity':\n",
    "        return s\n",
    "    \n",
    "    return decircumfixed"
   ]
  },
  {
   "cell_type": "code",
   "execution_count": 49,
   "metadata": {
    "ExecuteTime": {
     "end_time": "2020-03-11T21:47:11.802361Z",
     "start_time": "2020-03-11T21:47:11.779612Z"
    }
   },
   "outputs": [
    {
     "data": {
      "text/plain": [
       "'baz'"
      ]
     },
     "execution_count": 49,
     "metadata": {},
     "output_type": "execute_result"
    },
    {
     "name": "stdout",
     "output_type": "stream",
     "text": [
      "---\n"
     ]
    },
    {
     "data": {
      "text/plain": [
       "'bazBAR'"
      ]
     },
     "execution_count": 49,
     "metadata": {},
     "output_type": "execute_result"
    },
    {
     "data": {
      "text/plain": [
       "'FOObaz'"
      ]
     },
     "execution_count": 49,
     "metadata": {},
     "output_type": "execute_result"
    },
    {
     "name": "stdout",
     "output_type": "stream",
     "text": [
      "---\n"
     ]
    },
    {
     "data": {
      "text/plain": [
       "''"
      ]
     },
     "execution_count": 49,
     "metadata": {},
     "output_type": "execute_result"
    },
    {
     "data": {
      "text/plain": [
       "''"
      ]
     },
     "execution_count": 49,
     "metadata": {},
     "output_type": "execute_result"
    },
    {
     "name": "stdout",
     "output_type": "stream",
     "text": [
      "---\n"
     ]
    }
   ],
   "source": [
    "decircumfix('FOO', 'BAR', 'FOObazBAR')\n",
    "print('---')\n",
    "decircumfix('FOO', 'BAR', 'bazBAR', 'identity')\n",
    "decircumfix('FOO', 'BAR', 'FOObaz', 'identity')\n",
    "print('---')\n",
    "decircumfix('FOO', 'BAR', 'bazBAR', 'empty')\n",
    "decircumfix('FOO', 'BAR', 'FOObaz', 'empty')\n",
    "print('---')\n",
    "decircumfix('FOO', 'BAR', 'bazBAR', 'null')\n",
    "decircumfix('FOO', 'BAR', 'FOObaz', 'null')"
   ]
  },
  {
   "cell_type": "code",
   "execution_count": 50,
   "metadata": {
    "ExecuteTime": {
     "end_time": "2020-03-11T21:47:11.832586Z",
     "start_time": "2020-03-11T21:47:11.804845Z"
    }
   },
   "outputs": [
    {
     "data": {
      "text/plain": [
       "(4, 5, 6)"
      ]
     },
     "execution_count": 50,
     "metadata": {},
     "output_type": "execute_result"
    },
    {
     "name": "stdout",
     "output_type": "stream",
     "text": [
      "---\n"
     ]
    },
    {
     "data": {
      "text/plain": [
       "(4, 5, 6, 7, 8, 9)"
      ]
     },
     "execution_count": 50,
     "metadata": {},
     "output_type": "execute_result"
    },
    {
     "data": {
      "text/plain": [
       "(1, 2, 3, 4, 5, 6)"
      ]
     },
     "execution_count": 50,
     "metadata": {},
     "output_type": "execute_result"
    },
    {
     "name": "stdout",
     "output_type": "stream",
     "text": [
      "---\n"
     ]
    },
    {
     "data": {
      "text/plain": [
       "()"
      ]
     },
     "execution_count": 50,
     "metadata": {},
     "output_type": "execute_result"
    },
    {
     "data": {
      "text/plain": [
       "()"
      ]
     },
     "execution_count": 50,
     "metadata": {},
     "output_type": "execute_result"
    },
    {
     "name": "stdout",
     "output_type": "stream",
     "text": [
      "---\n"
     ]
    }
   ],
   "source": [
    "decircumfix((1,2,3), (7,8,9), (1,2,3,4,5,6,7,8,9))\n",
    "print('---')\n",
    "decircumfix((1,2,3), (7,8,9), (4,5,6,7,8,9), 'identity')\n",
    "decircumfix((1,2,3), (7,8,9), (1,2,3,4,5,6), 'identity')\n",
    "print('---')\n",
    "decircumfix((1,2,3), (7,8,9), (4,5,6,7,8,9), 'empty')\n",
    "decircumfix((1,2,3), (7,8,9), (1,2,3,4,5,6), 'empty')\n",
    "print('---')\n",
    "decircumfix((1,2,3), (7,8,9), (4,5,6,7,8,9), 'null')\n",
    "decircumfix((1,2,3), (7,8,9), (1,2,3,4,5,6), 'null')"
   ]
  },
  {
   "cell_type": "markdown",
   "metadata": {},
   "source": [
    "### Infixing"
   ]
  },
  {
   "cell_type": "code",
   "execution_count": 53,
   "metadata": {
    "ExecuteTime": {
     "end_time": "2020-03-11T21:47:26.258990Z",
     "start_time": "2020-03-11T21:47:26.253725Z"
    }
   },
   "outputs": [],
   "source": [
    "def infix(u, left_context, right_context):\n",
    "    '''\n",
    "    Returns \n",
    "        left_context + u + right_context\n",
    "    '''\n",
    "    return left_context + u + right_context"
   ]
  },
  {
   "cell_type": "code",
   "execution_count": 54,
   "metadata": {
    "ExecuteTime": {
     "end_time": "2020-03-11T21:47:26.458494Z",
     "start_time": "2020-03-11T21:47:26.450592Z"
    }
   },
   "outputs": [
    {
     "data": {
      "text/plain": [
       "'FOObazBAR'"
      ]
     },
     "execution_count": 54,
     "metadata": {},
     "output_type": "execute_result"
    }
   ],
   "source": [
    "infix('baz', 'FOO', 'BAR')"
   ]
  },
  {
   "cell_type": "markdown",
   "metadata": {},
   "source": [
    "### Deinfixing"
   ]
  },
  {
   "cell_type": "code",
   "execution_count": 55,
   "metadata": {
    "ExecuteTime": {
     "end_time": "2020-03-11T21:47:28.487174Z",
     "start_time": "2020-03-11T21:47:28.473884Z"
    }
   },
   "outputs": [],
   "source": [
    "def deinfix(u, s, infix_not_found_behavior='identity'):\n",
    "    '''\n",
    "    Multi-inverse of infix(u, left, right): returns all (left, right)s s.t.\n",
    "        s = left + u + right\n",
    "    \n",
    "    Behavior when s does not have u as an infix is governed by\n",
    "    `infix_not_found_behavior`:\n",
    "      - 'identity' -> s\n",
    "      - 'empty'    -> '' if s is a string else the empty tuple\n",
    "      - 'null'     -> None\n",
    "    '''\n",
    "    all_subsequences_with_contexts = generate_subsequences(s, \n",
    "                                                           as_generator=False, \n",
    "                                                           with_contexts=True)\n",
    "    relevant_subsequences = tuple(filter(lambda lcr: lcr[1] == u,\n",
    "                                         all_subsequences_with_contexts))\n",
    "    just_contexts = tuple(map(lambda lcr: (lcr[0], lcr[2]),\n",
    "                              relevant_subsequences))\n",
    "    if len(just_contexts) == 0:\n",
    "        if infix_not_found_behavior == 'identity':\n",
    "            return s\n",
    "        elif infix_not_found_behavior == 'empty':\n",
    "            return ''\n",
    "        elif infix_not_found_behavior == 'null':\n",
    "            return None\n",
    "    \n",
    "    return just_contexts"
   ]
  },
  {
   "cell_type": "code",
   "execution_count": 56,
   "metadata": {
    "ExecuteTime": {
     "end_time": "2020-03-11T21:47:28.599219Z",
     "start_time": "2020-03-11T21:47:28.588037Z"
    }
   },
   "outputs": [
    {
     "name": "stdout",
     "output_type": "stream",
     "text": [
      ": ()\n",
      "a: ('a',)\n",
      "ab: ('a', 'ab', 'b')\n",
      "abc: ('a', 'ab', 'abc', 'b', 'bc', 'c')\n",
      "abcd: ('a', 'ab', 'abc', 'abcd', 'b', 'bc', 'bcd', 'c', 'cd', 'd')\n"
     ]
    },
    {
     "data": {
      "text/plain": [
       "((1,), (1, 2), (1, 2, 3), (2,), (2, 3), (3,))"
      ]
     },
     "execution_count": 56,
     "metadata": {},
     "output_type": "execute_result"
    },
    {
     "name": "stdout",
     "output_type": "stream",
     "text": [
      ": ()\n",
      "a: (('', 'a', ''),)\n",
      "ab: (('', 'a', 'b'), ('', 'ab', ''), ('a', 'b', ''))\n",
      "abc: (('', 'a', 'bc'), ('', 'ab', 'c'), ('', 'abc', ''), ('a', 'b', 'c'), ('a', 'bc', ''), ('ab', 'c', ''))\n",
      "abcd: (('', 'a', 'bcd'), ('', 'ab', 'cd'), ('', 'abc', 'd'), ('', 'abcd', ''), ('a', 'b', 'cd'), ('a', 'bc', 'd'), ('a', 'bcd', ''), ('ab', 'c', 'd'), ('ab', 'cd', ''), ('abc', 'd', ''))\n"
     ]
    }
   ],
   "source": [
    "for each in ['', 'a', 'ab', 'abc', 'abcd']:\n",
    "    print(\"{0}: {1}\".format(each, generate_subsequences(each)))\n",
    "    \n",
    "generate_subsequences((1,2,3))\n",
    "\n",
    "for each in ['', 'a', 'ab', 'abc', 'abcd']:\n",
    "    print(\"{0}: {1}\".format(each, generate_subsequences(each, with_contexts=True)))"
   ]
  },
  {
   "cell_type": "code",
   "execution_count": 57,
   "metadata": {
    "ExecuteTime": {
     "end_time": "2020-03-11T21:47:28.752531Z",
     "start_time": "2020-03-11T21:47:28.726834Z"
    }
   },
   "outputs": [
    {
     "data": {
      "text/plain": [
       "(('a', 'cd'),)"
      ]
     },
     "execution_count": 57,
     "metadata": {},
     "output_type": "execute_result"
    },
    {
     "data": {
      "text/plain": [
       "(('aa', 'bbXccX'), ('aaXbb', 'ccX'), ('aaXbbXcc', ''))"
      ]
     },
     "execution_count": 57,
     "metadata": {},
     "output_type": "execute_result"
    },
    {
     "name": "stdout",
     "output_type": "stream",
     "text": [
      "---\n"
     ]
    },
    {
     "data": {
      "text/plain": [
       "'abcd'"
      ]
     },
     "execution_count": 57,
     "metadata": {},
     "output_type": "execute_result"
    },
    {
     "data": {
      "text/plain": [
       "'aaXbbXccX'"
      ]
     },
     "execution_count": 57,
     "metadata": {},
     "output_type": "execute_result"
    },
    {
     "name": "stdout",
     "output_type": "stream",
     "text": [
      "---\n"
     ]
    },
    {
     "data": {
      "text/plain": [
       "''"
      ]
     },
     "execution_count": 57,
     "metadata": {},
     "output_type": "execute_result"
    },
    {
     "data": {
      "text/plain": [
       "''"
      ]
     },
     "execution_count": 57,
     "metadata": {},
     "output_type": "execute_result"
    },
    {
     "name": "stdout",
     "output_type": "stream",
     "text": [
      "---\n"
     ]
    }
   ],
   "source": [
    "deinfix('b', 'abcd')\n",
    "deinfix('X', 'aaXbbXccX')\n",
    "print('---')\n",
    "deinfix('Y', 'abcd', 'identity')\n",
    "deinfix('Y', 'aaXbbXccX', 'identity')\n",
    "print('---')\n",
    "deinfix('Y', 'abcd', 'empty')\n",
    "deinfix('Y', 'aaXbbXccX', 'empty')\n",
    "print('---')\n",
    "deinfix('Y', 'abcd', 'null')\n",
    "deinfix('Y', 'aaXbbXccX', 'null')"
   ]
  },
  {
   "cell_type": "markdown",
   "metadata": {},
   "source": [
    "## Tokenization"
   ]
  },
  {
   "cell_type": "code",
   "execution_count": 58,
   "metadata": {
    "ExecuteTime": {
     "end_time": "2020-03-11T21:47:30.024119Z",
     "start_time": "2020-03-11T21:47:30.008154Z"
    }
   },
   "outputs": [],
   "source": [
    "def tokenizer(linear_code_expression):\n",
    "    '''\n",
    "    Given a linear code expression for a single molecule s, splits ('tokenizes')\n",
    "    s into 'tokens' ('words') with each token consisting of one of\n",
    "        parentheses\n",
    "        bond location\n",
    "        monosaccharide (+ bond type? \\FIXME WHY IS GLYPY LIKE THAT)\n",
    "        \n",
    "    (Note that it is NOT the job of a tokenizer to enforce or check either \n",
    "    syntactic or semantic restrictions.)\n",
    "    '''\n",
    "    #TODO alternative tokenization that might make more domain-specific sense\n",
    "    # and/or have other desirable downstream consequences:\n",
    "    # a token is one of:\n",
    "    #  - parenthesis\n",
    "    #  - a monosaccharide with bond information\n",
    "    #  - a bare monosaccharide\n",
    "    # where 'a monosaccharide with bond information' is either\n",
    "    #  - a monosaccharide with just a bond type\n",
    "    #  - a monosaccharide with a bond type and a bond location\n",
    "    \n",
    "    parens = ('(',')')\n",
    "    \n",
    "    categories = (parens, bonds, MSs)\n",
    "    \n",
    "    def right_greedy_tokenizer(lce, tokenized_result_so_far):\n",
    "        '''\n",
    "        Greedily (and recursively) tokenizes lce from the right.\n",
    "        '''\n",
    "        if lce == '':\n",
    "            return tokenized_result_so_far\n",
    "#         print('lce={0}'.format(lce))\n",
    "        for suf in generate_suffixes(lce, True):\n",
    "#             print('\\tsuf={0}'.format(suf))\n",
    "            for cat in categories:\n",
    "#                 print('\\t\\tcat={0}'.format(cat))\n",
    "                if suf in cat:\n",
    "                    rest = desuffix(suf, lce)\n",
    "#                     print('\\t\\trest={0}'.format(rest))\n",
    "                    return right_greedy_tokenizer(rest, [suf] + \n",
    "                                                         tokenized_result_so_far)\n",
    "        e = 'Tokenized portion: {0}\\nUntokenized remainder: {1}'\n",
    "        raise Exception(e.format(tokenized_result_so_far, lce))\n",
    "    return right_greedy_tokenizer(linear_code_expression, [])"
   ]
  },
  {
   "cell_type": "code",
   "execution_count": 59,
   "metadata": {
    "ExecuteTime": {
     "end_time": "2020-03-11T21:47:30.130359Z",
     "start_time": "2020-03-11T21:47:30.122316Z"
    }
   },
   "outputs": [
    {
     "data": {
      "text/plain": [
       "['Ma2Ma2Ma3(Ma2Ma3(Ma2Ma6)Ma6)Mb4GNb4GN',\n",
       " 'Ma2Ma2Ma3(Ma3(Ma2Ma6)Ma6)Mb4GNb4GN',\n",
       " 'Ga3Ma2Ma2Ma3(Ma2Ma3(Ma2Ma6)Ma6)Mb4GNb4GN',\n",
       " 'GNb2Ma3(GNb2Ma6)Mb4GNb4(Fa6)GN',\n",
       " 'NNa6Ab4GNb2Ma3(GNb4)(Ma3(Ma6)Ma6)Mb4GNb4GN',\n",
       " 'GNb2Ma3(Ab4GNb2Ma6)Mb4GNb4(Fa6)GNa',\n",
       " 'Fa4GNb3Ab4Gb',\n",
       " 'GNb2Ma3(NNa3Ab3GNb2Ma6)Mb4GNb',\n",
       " 'Ab3ANb4(NNa3)Ab4Gb',\n",
       " 'Ab4(GNb4GNb3)(Ab4(Fa3)GNb6)Ab4Gb']"
      ]
     },
     "execution_count": 59,
     "metadata": {},
     "output_type": "execute_result"
    }
   ],
   "source": [
    "LCEs"
   ]
  },
  {
   "cell_type": "code",
   "execution_count": 60,
   "metadata": {
    "ExecuteTime": {
     "end_time": "2020-03-11T21:47:30.251152Z",
     "start_time": "2020-03-11T21:47:30.241178Z"
    },
    "scrolled": false
   },
   "outputs": [
    {
     "data": {
      "text/plain": [
       "'Ma2Ma2Ma3(Ma2Ma3(Ma2Ma6)Ma6)Mb4GNb4GN'"
      ]
     },
     "execution_count": 60,
     "metadata": {},
     "output_type": "execute_result"
    },
    {
     "name": "stdout",
     "output_type": "stream",
     "text": [
      "['Ma', '2', 'Ma', '2', 'Ma', '3', '(', 'Ma', '2', 'Ma', '3', '(', 'Ma', '2', 'Ma', '6', ')', 'Ma', '6', ')', 'Mb', '4', 'GNb', '4', 'GN']\n"
     ]
    }
   ],
   "source": [
    "LCEs[0]\n",
    "print(tokenizer(LCEs[0]))"
   ]
  },
  {
   "cell_type": "code",
   "execution_count": 61,
   "metadata": {
    "ExecuteTime": {
     "end_time": "2020-03-11T21:47:30.377415Z",
     "start_time": "2020-03-11T21:47:30.361402Z"
    }
   },
   "outputs": [
    {
     "name": "stdout",
     "output_type": "stream",
     "text": [
      "Glycan:    Ma2Ma2Ma3(Ma2Ma3(Ma2Ma6)Ma6)Mb4GNb4GN\n",
      "Tokenized: Ma 2 Ma 2 Ma 3 ( Ma 2 Ma 3 ( Ma 2 Ma 6 ) Ma 6 ) Mb 4 GNb 4 GN\n",
      "Glycan:    Ma2Ma2Ma3(Ma3(Ma2Ma6)Ma6)Mb4GNb4GN\n",
      "Tokenized: Ma 2 Ma 2 Ma 3 ( Ma 3 ( Ma 2 Ma 6 ) Ma 6 ) Mb 4 GNb 4 GN\n",
      "Glycan:    Ga3Ma2Ma2Ma3(Ma2Ma3(Ma2Ma6)Ma6)Mb4GNb4GN\n",
      "Tokenized: Ga 3 Ma 2 Ma 2 Ma 3 ( Ma 2 Ma 3 ( Ma 2 Ma 6 ) Ma 6 ) Mb 4 GNb 4 GN\n",
      "Glycan:    GNb2Ma3(GNb2Ma6)Mb4GNb4(Fa6)GN\n",
      "Tokenized: GNb 2 Ma 3 ( GNb 2 Ma 6 ) Mb 4 GNb 4 ( Fa 6 ) GN\n",
      "Glycan:    NNa6Ab4GNb2Ma3(GNb4)(Ma3(Ma6)Ma6)Mb4GNb4GN\n",
      "Tokenized: NNa 6 Ab 4 GNb 2 Ma 3 ( GNb 4 ) ( Ma 3 ( Ma 6 ) Ma 6 ) Mb 4 GNb 4 GN\n",
      "Glycan:    GNb2Ma3(Ab4GNb2Ma6)Mb4GNb4(Fa6)GNa\n",
      "Tokenized: GNb 2 Ma 3 ( Ab 4 GNb 2 Ma 6 ) Mb 4 GNb 4 ( Fa 6 ) GNa\n",
      "Glycan:    Fa4GNb3Ab4Gb\n",
      "Tokenized: Fa 4 GNb 3 Ab 4 Gb\n",
      "Glycan:    GNb2Ma3(NNa3Ab3GNb2Ma6)Mb4GNb\n",
      "Tokenized: GNb 2 Ma 3 ( NNa 3 Ab 3 GNb 2 Ma 6 ) Mb 4 GNb\n",
      "Glycan:    Ab3ANb4(NNa3)Ab4Gb\n",
      "Tokenized: Ab 3 ANb 4 ( NNa 3 ) Ab 4 Gb\n",
      "Glycan:    Ab4(GNb4GNb3)(Ab4(Fa3)GNb6)Ab4Gb\n",
      "Tokenized: Ab 4 ( GNb 4 GNb 3 ) ( Ab 4 ( Fa 3 ) GNb 6 ) Ab 4 Gb\n"
     ]
    }
   ],
   "source": [
    "for lce in LCEs:\n",
    "    print('Glycan:    {0}\\nTokenized: {1}'.format(lce, str_join(' ', tokenizer(lce))))"
   ]
  },
  {
   "cell_type": "markdown",
   "metadata": {},
   "source": [
    "## Krambeck et al. 2009's `ligand` \"...\""
   ]
  },
  {
   "cell_type": "markdown",
   "metadata": {},
   "source": [
    "`...` is supposed to match \"Any string (possibly empty) with parentheses matched\" (Table 7)"
   ]
  },
  {
   "cell_type": "code",
   "execution_count": 62,
   "metadata": {
    "ExecuteTime": {
     "end_time": "2020-03-11T21:47:30.744479Z",
     "start_time": "2020-03-11T21:47:30.739345Z"
    }
   },
   "outputs": [],
   "source": [
    "def is_ligand_match(linear_code_expression):\n",
    "    '''\n",
    "    Indicates whether `linear_code_expression` (in its entirety) matches (i.e.\n",
    "    could be substituted with/for) `...`.\n",
    "    '''\n",
    "    s = linear_code_expression\n",
    "    if len(s) == 0:\n",
    "        return True\n",
    "    return has_balanced_parens(s)"
   ]
  },
  {
   "cell_type": "code",
   "execution_count": 63,
   "metadata": {
    "ExecuteTime": {
     "end_time": "2020-03-11T21:47:30.882628Z",
     "start_time": "2020-03-11T21:47:30.874139Z"
    }
   },
   "outputs": [],
   "source": [
    "def get_ligand_matches(linear_code_expression, asGenerator=False):\n",
    "    '''\n",
    "    Returns the substrings within `linear_code_expression` that match Krambeck\n",
    "    et al's `ligand` wildcard `...`.\n",
    "    '''\n",
    "    s = linear_code_expression\n",
    "    subsequences = generate_subsequences(list(tokenizer(s)), True)\n",
    "#     subsequences = generate_subsequences(s, True)\n",
    "    if asGenerator:\n",
    "        return (is_ligand_match(subseq) \n",
    "                for subseq in subsequences)\n",
    "    else:\n",
    "        return tuple(filter(is_ligand_match, subsequences))"
   ]
  },
  {
   "cell_type": "code",
   "execution_count": 64,
   "metadata": {
    "ExecuteTime": {
     "end_time": "2020-03-11T21:47:31.085579Z",
     "start_time": "2020-03-11T21:47:31.022874Z"
    }
   },
   "outputs": [
    {
     "data": {
      "text/plain": [
       "'Ma2Ma2Ma3(Ma2Ma3(Ma2Ma6)Ma6)Mb4GNb4GN'"
      ]
     },
     "execution_count": 64,
     "metadata": {},
     "output_type": "execute_result"
    },
    {
     "data": {
      "image/png": "[encoded data removed]",
      "text/plain": [
       "<Figure size 432x288 with 1 Axes>"
      ]
     },
     "metadata": {
      "needs_background": "light"
     },
     "output_type": "display_data"
    }
   ],
   "source": [
    "LCEs[0]\n",
    "parsePlot(LCEs[0])"
   ]
  },
  {
   "cell_type": "code",
   "execution_count": 65,
   "metadata": {
    "ExecuteTime": {
     "end_time": "2020-03-11T21:47:31.153395Z",
     "start_time": "2020-03-11T21:47:31.141820Z"
    }
   },
   "outputs": [
    {
     "data": {
      "text/plain": [
       "(116, 209)"
      ]
     },
     "execution_count": 65,
     "metadata": {},
     "output_type": "execute_result"
    }
   ],
   "source": [
    "my_ligand_matches, my_nonmatches = split(is_ligand_match, \n",
    "                                         generate_subsequences(tokenizer(LCEs[0])))\n",
    "\n",
    "len(my_ligand_matches), len(my_nonmatches)"
   ]
  },
  {
   "cell_type": "code",
   "execution_count": 66,
   "metadata": {
    "ExecuteTime": {
     "end_time": "2020-03-11T21:47:33.879190Z",
     "start_time": "2020-03-11T21:47:31.259564Z"
    },
    "scrolled": true
   },
   "outputs": [
    {
     "name": "stderr",
     "output_type": "stream",
     "text": [
      "/home/AD/emeinhar/anaconda3/envs/glypy/lib/python2.7/site-packages/matplotlib/pyplot.py:522: RuntimeWarning: More than 20 figures have been opened. Figures created through the pyplot interface (`matplotlib.pyplot.figure`) are retained until explicitly closed and may consume too much memory. (To control this warning, see the rcParam `figure.max_open_warning`).\n",
      "  max_open_warning, RuntimeWarning)\n"
     ]
    },
    {
     "data": {
      "image/png": "[encoded data removed]",
      "text/plain": [
       "<Figure size 432x288 with 1 Axes>"
      ]
     },
     "metadata": {
      "needs_background": "light"
     },
     "output_type": "display_data"
    },
    {
     "data": {
      "image/png": "[encoded data removed]",
      "text/plain": [
       "<Figure size 432x288 with 1 Axes>"
      ]
     },
     "metadata": {
      "needs_background": "light"
     },
     "output_type": "display_data"
    },
    {
     "data": {
      "image/png": "[encoded data removed]",
      "text/plain": [
       "<Figure size 432x288 with 1 Axes>"
      ]
     },
     "metadata": {
      "needs_background": "light"
     },
     "output_type": "display_data"
    },
    {
     "data": {
      "image/png": "[encoded data removed]",
      "text/plain": [
       "<Figure size 432x288 with 1 Axes>"
      ]
     },
     "metadata": {
      "needs_background": "light"
     },
     "output_type": "display_data"
    },
    {
     "data": {
      "image/png": "[encoded data removed]",
      "text/plain": [
       "<Figure size 432x288 with 1 Axes>"
      ]
     },
     "metadata": {
      "needs_background": "light"
     },
     "output_type": "display_data"
    },
    {
     "data": {
      "image/png": "[encoded data removed]",
      "text/plain": [
       "<Figure size 432x288 with 1 Axes>"
      ]
     },
     "metadata": {
      "needs_background": "light"
     },
     "output_type": "display_data"
    },
    {
     "data": {
      "image/png": "[encoded data removed]",
      "text/plain": [
       "<Figure size 432x288 with 1 Axes>"
      ]
     },
     "metadata": {
      "needs_background": "light"
     },
     "output_type": "display_data"
    },
    {
     "data": {
      "image/png": "[encoded data removed]",
      "text/plain": [
       "<Figure size 432x288 with 1 Axes>"
      ]
     },
     "metadata": {
      "needs_background": "light"
     },
     "output_type": "display_data"
    },
    {
     "data": {
      "image/png": "[encoded data removed]",
      "text/plain": [
       "<Figure size 432x288 with 1 Axes>"
      ]
     },
     "metadata": {
      "needs_background": "light"
     },
     "output_type": "display_data"
    },
    {
     "data": {
      "image/png": "[encoded data removed]",
      "text/plain": [
       "<Figure size 432x288 with 1 Axes>"
      ]
     },
     "metadata": {
      "needs_background": "light"
     },
     "output_type": "display_data"
    },
    {
     "data": {
      "image/png": "[encoded data removed]",
      "text/plain": [
       "<Figure size 432x288 with 1 Axes>"
      ]
     },
     "metadata": {
      "needs_background": "light"
     },
     "output_type": "display_data"
    },
    {
     "data": {
      "image/png": "[encoded data removed]",
      "text/plain": [
       "<Figure size 432x288 with 1 Axes>"
      ]
     },
     "metadata": {
      "needs_background": "light"
     },
     "output_type": "display_data"
    },
    {
     "data": {
      "image/png": "[encoded data removed]",
      "text/plain": [
       "<Figure size 432x288 with 1 Axes>"
      ]
     },
     "metadata": {
      "needs_background": "light"
     },
     "output_type": "display_data"
    },
    {
     "data": {
      "image/png": "[encoded data removed]",
      "text/plain": [
       "<Figure size 432x288 with 1 Axes>"
      ]
     },
     "metadata": {
      "needs_background": "light"
     },
     "output_type": "display_data"
    },
    {
     "data": {
      "image/png": "[encoded data removed]",
      "text/plain": [
       "<Figure size 432x288 with 1 Axes>"
      ]
     },
     "metadata": {
      "needs_background": "light"
     },
     "output_type": "display_data"
    },
    {
     "data": {
      "image/png": "[encoded data removed]",
      "text/plain": [
       "<Figure size 432x288 with 1 Axes>"
      ]
     },
     "metadata": {
      "needs_background": "light"
     },
     "output_type": "display_data"
    },
    {
     "data": {
      "image/png": "[encoded data removed]",
      "text/plain": [
       "<Figure size 432x288 with 1 Axes>"
      ]
     },
     "metadata": {
      "needs_background": "light"
     },
     "output_type": "display_data"
    },
    {
     "data": {
      "image/png": "[encoded data removed]",
      "text/plain": [
       "<Figure size 432x288 with 1 Axes>"
      ]
     },
     "metadata": {
      "needs_background": "light"
     },
     "output_type": "display_data"
    },
    {
     "data": {
      "image/png": "[encoded data removed]",
      "text/plain": [
       "<Figure size 432x288 with 1 Axes>"
      ]
     },
     "metadata": {
      "needs_background": "light"
     },
     "output_type": "display_data"
    },
    {
     "data": {
      "image/png": "[encoded data removed]",
      "text/plain": [
       "<Figure size 432x288 with 1 Axes>"
      ]
     },
     "metadata": {
      "needs_background": "light"
     },
     "output_type": "display_data"
    },
    {
     "data": {
      "image/png": "[encoded data removed]",
      "text/plain": [
       "<Figure size 432x288 with 1 Axes>"
      ]
     },
     "metadata": {
      "needs_background": "light"
     },
     "output_type": "display_data"
    },
    {
     "data": {
      "image/png": "[encoded data removed]",
      "text/plain": [
       "<Figure size 432x288 with 1 Axes>"
      ]
     },
     "metadata": {
      "needs_background": "light"
     },
     "output_type": "display_data"
    },
    {
     "data": {
      "image/png": "[encoded data removed]",
      "text/plain": [
       "<Figure size 432x288 with 1 Axes>"
      ]
     },
     "metadata": {
      "needs_background": "light"
     },
     "output_type": "display_data"
    },
    {
     "data": {
      "image/png": "[encoded data removed]",
      "text/plain": [
       "<Figure size 432x288 with 1 Axes>"
      ]
     },
     "metadata": {
      "needs_background": "light"
     },
     "output_type": "display_data"
    },
    {
     "data": {
      "image/png": "[encoded data removed]",
      "text/plain": [
       "<Figure size 432x288 with 1 Axes>"
      ]
     },
     "metadata": {
      "needs_background": "light"
     },
     "output_type": "display_data"
    },
    {
     "data": {
      "image/png": "[encoded data removed]",
      "text/plain": [
       "<Figure size 432x288 with 1 Axes>"
      ]
     },
     "metadata": {
      "needs_background": "light"
     },
     "output_type": "display_data"
    },
    {
     "data": {
      "image/png": "[encoded data removed]",
      "text/plain": [
       "<Figure size 432x288 with 1 Axes>"
      ]
     },
     "metadata": {
      "needs_background": "light"
     },
     "output_type": "display_data"
    },
    {
     "data": {
      "image/png": "[encoded data removed]",
      "text/plain": [
       "<Figure size 432x288 with 1 Axes>"
      ]
     },
     "metadata": {
      "needs_background": "light"
     },
     "output_type": "display_data"
    },
    {
     "data": {
      "image/png": "[encoded data removed]",
      "text/plain": [
       "<Figure size 432x288 with 1 Axes>"
      ]
     },
     "metadata": {
      "needs_background": "light"
     },
     "output_type": "display_data"
    },
    {
     "data": {
      "image/png": "[encoded data removed]",
      "text/plain": [
       "<Figure size 432x288 with 1 Axes>"
      ]
     },
     "metadata": {
      "needs_background": "light"
     },
     "output_type": "display_data"
    },
    {
     "data": {
      "image/png": "[encoded data removed]",
      "text/plain": [
       "<Figure size 432x288 with 1 Axes>"
      ]
     },
     "metadata": {
      "needs_background": "light"
     },
     "output_type": "display_data"
    },
    {
     "data": {
      "image/png": "[encoded data removed]",
      "text/plain": [
       "<Figure size 432x288 with 1 Axes>"
      ]
     },
     "metadata": {
      "needs_background": "light"
     },
     "output_type": "display_data"
    },
    {
     "data": {
      "image/png": "[encoded data removed]",
      "text/plain": [
       "<Figure size 432x288 with 1 Axes>"
      ]
     },
     "metadata": {
      "needs_background": "light"
     },
     "output_type": "display_data"
    },
    {
     "data": {
      "image/png": "[encoded data removed]",
      "text/plain": [
       "<Figure size 432x288 with 1 Axes>"
      ]
     },
     "metadata": {
      "needs_background": "light"
     },
     "output_type": "display_data"
    },
    {
     "data": {
      "image/png": "[encoded data removed]",
      "text/plain": [
       "<Figure size 432x288 with 1 Axes>"
      ]
     },
     "metadata": {
      "needs_background": "light"
     },
     "output_type": "display_data"
    },
    {
     "data": {
      "image/png": "[encoded data removed]",
      "text/plain": [
       "<Figure size 432x288 with 1 Axes>"
      ]
     },
     "metadata": {
      "needs_background": "light"
     },
     "output_type": "display_data"
    },
    {
     "data": {
      "image/png": "[encoded data removed]",
      "text/plain": [
       "<Figure size 432x288 with 1 Axes>"
      ]
     },
     "metadata": {
      "needs_background": "light"
     },
     "output_type": "display_data"
    },
    {
     "data": {
      "image/png": "[encoded data removed]",
      "text/plain": [
       "<Figure size 432x288 with 1 Axes>"
      ]
     },
     "metadata": {
      "needs_background": "light"
     },
     "output_type": "display_data"
    },
    {
     "data": {
      "image/png": "[encoded data removed]",
      "text/plain": [
       "<Figure size 432x288 with 1 Axes>"
      ]
     },
     "metadata": {
      "needs_background": "light"
     },
     "output_type": "display_data"
    },
    {
     "data": {
      "image/png": "[encoded data removed]",
      "text/plain": [
       "<Figure size 432x288 with 1 Axes>"
      ]
     },
     "metadata": {
      "needs_background": "light"
     },
     "output_type": "display_data"
    },
    {
     "data": {
      "image/png": "[encoded data removed]",
      "text/plain": [
       "<Figure size 432x288 with 1 Axes>"
      ]
     },
     "metadata": {
      "needs_background": "light"
     },
     "output_type": "display_data"
    },
    {
     "data": {
      "image/png": "[encoded data removed]",
      "text/plain": [
       "<Figure size 432x288 with 1 Axes>"
      ]
     },
     "metadata": {
      "needs_background": "light"
     },
     "output_type": "display_data"
    },
    {
     "data": {
      "image/png": "[encoded data removed]",
      "text/plain": [
       "<Figure size 432x288 with 1 Axes>"
      ]
     },
     "metadata": {
      "needs_background": "light"
     },
     "output_type": "display_data"
    },
    {
     "data": {
      "image/png": "[encoded data removed]",
      "text/plain": [
       "<Figure size 432x288 with 1 Axes>"
      ]
     },
     "metadata": {
      "needs_background": "light"
     },
     "output_type": "display_data"
    },
    {
     "data": {
      "image/png": "[encoded data removed]",
      "text/plain": [
       "<Figure size 432x288 with 1 Axes>"
      ]
     },
     "metadata": {
      "needs_background": "light"
     },
     "output_type": "display_data"
    },
    {
     "data": {
      "image/png": "[encoded data removed]",
      "text/plain": [
       "<Figure size 432x288 with 1 Axes>"
      ]
     },
     "metadata": {
      "needs_background": "light"
     },
     "output_type": "display_data"
    },
    {
     "data": {
      "image/png": "[encoded data removed]",
      "text/plain": [
       "<Figure size 432x288 with 1 Axes>"
      ]
     },
     "metadata": {
      "needs_background": "light"
     },
     "output_type": "display_data"
    },
    {
     "data": {
      "image/png": "[encoded data removed]",
      "text/plain": [
       "<Figure size 432x288 with 1 Axes>"
      ]
     },
     "metadata": {
      "needs_background": "light"
     },
     "output_type": "display_data"
    },
    {
     "data": {
      "image/png": "[encoded data removed]",
      "text/plain": [
       "<Figure size 432x288 with 1 Axes>"
      ]
     },
     "metadata": {
      "needs_background": "light"
     },
     "output_type": "display_data"
    },
    {
     "data": {
      "image/png": "[encoded data removed]",
      "text/plain": [
       "<Figure size 432x288 with 1 Axes>"
      ]
     },
     "metadata": {
      "needs_background": "light"
     },
     "output_type": "display_data"
    },
    {
     "data": {
      "image/png": "[encoded data removed]",
      "text/plain": [
       "<Figure size 432x288 with 1 Axes>"
      ]
     },
     "metadata": {
      "needs_background": "light"
     },
     "output_type": "display_data"
    },
    {
     "data": {
      "image/png": "[encoded data removed]",
      "text/plain": [
       "<Figure size 432x288 with 1 Axes>"
      ]
     },
     "metadata": {
      "needs_background": "light"
     },
     "output_type": "display_data"
    },
    {
     "data": {
      "image/png": "[encoded data removed]",
      "text/plain": [
       "<Figure size 432x288 with 1 Axes>"
      ]
     },
     "metadata": {
      "needs_background": "light"
     },
     "output_type": "display_data"
    },
    {
     "data": {
      "image/png": "[encoded data removed]",
      "text/plain": [
       "<Figure size 432x288 with 1 Axes>"
      ]
     },
     "metadata": {
      "needs_background": "light"
     },
     "output_type": "display_data"
    },
    {
     "data": {
      "image/png": "[encoded data removed]",
      "text/plain": [
       "<Figure size 432x288 with 1 Axes>"
      ]
     },
     "metadata": {
      "needs_background": "light"
     },
     "output_type": "display_data"
    },
    {
     "data": {
      "image/png": "[encoded data removed]",
      "text/plain": [
       "<Figure size 432x288 with 1 Axes>"
      ]
     },
     "metadata": {
      "needs_background": "light"
     },
     "output_type": "display_data"
    },
    {
     "data": {
      "image/png": "[encoded data removed]",
      "text/plain": [
       "<Figure size 432x288 with 1 Axes>"
      ]
     },
     "metadata": {
      "needs_background": "light"
     },
     "output_type": "display_data"
    },
    {
     "data": {
      "image/png": "[encoded data removed]",
      "text/plain": [
       "<Figure size 432x288 with 1 Axes>"
      ]
     },
     "metadata": {
      "needs_background": "light"
     },
     "output_type": "display_data"
    },
    {
     "data": {
      "image/png": "[encoded data removed]",
      "text/plain": [
       "<Figure size 432x288 with 1 Axes>"
      ]
     },
     "metadata": {
      "needs_background": "light"
     },
     "output_type": "display_data"
    },
    {
     "data": {
      "image/png": "[encoded data removed]",
      "text/plain": [
       "<Figure size 432x288 with 1 Axes>"
      ]
     },
     "metadata": {
      "needs_background": "light"
     },
     "output_type": "display_data"
    },
    {
     "data": {
      "image/png": "[encoded data removed]",
      "text/plain": [
       "<Figure size 432x288 with 1 Axes>"
      ]
     },
     "metadata": {
      "needs_background": "light"
     },
     "output_type": "display_data"
    }
   ],
   "source": [
    "ligand_plottables = set()\n",
    "ligand_unplottables = set()\n",
    "for each_match in my_ligand_matches:\n",
    "    each_lc = str_join('', each_match)\n",
    "    try:\n",
    "        parsePlot(each_lc)\n",
    "        ligand_plottables.add(each_lc)\n",
    "    except Exception as e:\n",
    "        ligand_unplottables.add(each_lc)"
   ]
  },
  {
   "cell_type": "markdown",
   "metadata": {},
   "source": [
    "'Well-formed' (plottable/`glypy`-parseable) matches to the ligand wildcard are all\n",
    " - chains\n",
    " - chains with (sub)trees (which may be trees or themselves contain trees, which ...)"
   ]
  },
  {
   "cell_type": "code",
   "execution_count": 67,
   "metadata": {
    "ExecuteTime": {
     "end_time": "2020-03-11T21:47:33.890918Z",
     "start_time": "2020-03-11T21:47:33.883481Z"
    }
   },
   "outputs": [
    {
     "data": {
      "text/plain": [
       "45"
      ]
     },
     "execution_count": 67,
     "metadata": {},
     "output_type": "execute_result"
    }
   ],
   "source": [
    "len(ligand_plottables)"
   ]
  },
  {
   "cell_type": "code",
   "execution_count": 68,
   "metadata": {
    "ExecuteTime": {
     "end_time": "2020-03-11T21:47:33.904060Z",
     "start_time": "2020-03-11T21:47:33.895055Z"
    }
   },
   "outputs": [
    {
     "data": {
      "text/plain": [
       "['(Ma2Ma6)Ma6',\n",
       " 'Ma2Ma6',\n",
       " 'Ma3(Ma2Ma3(Ma2Ma6)Ma6)Mb4GNb',\n",
       " 'Ma2Ma2',\n",
       " 'Ma2Ma3',\n",
       " 'Ma3(Ma2Ma3(Ma2Ma6)Ma6)Mb4GNb4GN',\n",
       " '(Ma2Ma3(Ma2Ma6)Ma6)Mb',\n",
       " 'Ma2Ma3(Ma2Ma3(Ma2Ma6)Ma6)Mb4GNb4GN',\n",
       " 'Ma2Ma3(Ma2Ma3(Ma2Ma6)Ma6)Mb',\n",
       " 'Ma3(Ma2Ma3(Ma2Ma6)Ma6)Mb4',\n",
       " '(Ma2Ma3(Ma2Ma6)Ma6)Mb4GNb4GN',\n",
       " 'Mb4GNb',\n",
       " 'Ma2Ma3(Ma2Ma3(Ma2Ma6)Ma6)Mb4GNb',\n",
       " 'Mb',\n",
       " 'Ma3(Ma2Ma6)Ma6',\n",
       " '(Ma2Ma3(Ma2Ma6)Ma6)Mb4',\n",
       " '(Ma2Ma3(Ma2Ma6)Ma6)Mb4GNb4',\n",
       " 'GNb',\n",
       " 'GNb4GN',\n",
       " 'Ma2Ma2Ma3(Ma2Ma3(Ma2Ma6)Ma6)Mb4GNb4GN',\n",
       " 'Mb4',\n",
       " 'Ma2Ma2Ma3(Ma2Ma3(Ma2Ma6)Ma6)Mb4GNb',\n",
       " 'Ma2Ma3(Ma2Ma3(Ma2Ma6)Ma6)Mb4GNb4',\n",
       " 'Mb4GNb4',\n",
       " 'Ma2Ma2Ma3(Ma2Ma3(Ma2Ma6)Ma6)Mb4',\n",
       " 'Ma',\n",
       " 'Ma3(Ma2Ma3(Ma2Ma6)Ma6)Mb4GNb4',\n",
       " 'Ma2Ma3(Ma2Ma6)Ma6',\n",
       " 'Ma2Ma2Ma',\n",
       " 'Mb4GNb4GN',\n",
       " 'Ma2Ma',\n",
       " 'GN',\n",
       " 'Ma2Ma3(Ma2Ma6)Ma',\n",
       " 'Ma2Ma2Ma3(Ma2Ma3(Ma2Ma6)Ma6)Mb4GNb4',\n",
       " 'Ma2Ma3(Ma2Ma3(Ma2Ma6)Ma6)Mb4',\n",
       " 'Ma3',\n",
       " 'Ma2',\n",
       " 'Ma3(Ma2Ma6)Ma',\n",
       " 'Ma2Ma2Ma3',\n",
       " 'GNb4',\n",
       " 'Ma6',\n",
       " '(Ma2Ma3(Ma2Ma6)Ma6)Mb4GNb',\n",
       " '(Ma2Ma6)Ma',\n",
       " 'Ma3(Ma2Ma3(Ma2Ma6)Ma6)Mb',\n",
       " 'Ma2Ma2Ma3(Ma2Ma3(Ma2Ma6)Ma6)Mb']"
      ]
     },
     "execution_count": 68,
     "metadata": {},
     "output_type": "execute_result"
    }
   ],
   "source": [
    "list(ligand_plottables)"
   ]
  },
  {
   "cell_type": "code",
   "execution_count": 69,
   "metadata": {
    "ExecuteTime": {
     "end_time": "2020-03-11T21:47:33.915329Z",
     "start_time": "2020-03-11T21:47:33.906678Z"
    }
   },
   "outputs": [
    {
     "data": {
      "text/plain": [
       "{'(Ma2Ma3(Ma2Ma6)Ma6)',\n",
       " '(Ma2Ma6)',\n",
       " '2',\n",
       " '2Ma',\n",
       " '2Ma2',\n",
       " '2Ma2Ma',\n",
       " '2Ma2Ma3',\n",
       " '2Ma2Ma3(Ma2Ma3(Ma2Ma6)Ma6)',\n",
       " '2Ma2Ma3(Ma2Ma3(Ma2Ma6)Ma6)Mb',\n",
       " '2Ma2Ma3(Ma2Ma3(Ma2Ma6)Ma6)Mb4',\n",
       " '2Ma2Ma3(Ma2Ma3(Ma2Ma6)Ma6)Mb4GNb',\n",
       " '2Ma2Ma3(Ma2Ma3(Ma2Ma6)Ma6)Mb4GNb4',\n",
       " '2Ma2Ma3(Ma2Ma3(Ma2Ma6)Ma6)Mb4GNb4GN',\n",
       " '2Ma3',\n",
       " '2Ma3(Ma2Ma3(Ma2Ma6)Ma6)',\n",
       " '2Ma3(Ma2Ma3(Ma2Ma6)Ma6)Mb',\n",
       " '2Ma3(Ma2Ma3(Ma2Ma6)Ma6)Mb4',\n",
       " '2Ma3(Ma2Ma3(Ma2Ma6)Ma6)Mb4GNb',\n",
       " '2Ma3(Ma2Ma3(Ma2Ma6)Ma6)Mb4GNb4',\n",
       " '2Ma3(Ma2Ma3(Ma2Ma6)Ma6)Mb4GNb4GN',\n",
       " '2Ma3(Ma2Ma6)',\n",
       " '2Ma3(Ma2Ma6)Ma',\n",
       " '2Ma3(Ma2Ma6)Ma6',\n",
       " '2Ma6',\n",
       " '3',\n",
       " '3(Ma2Ma3(Ma2Ma6)Ma6)',\n",
       " '3(Ma2Ma3(Ma2Ma6)Ma6)Mb',\n",
       " '3(Ma2Ma3(Ma2Ma6)Ma6)Mb4',\n",
       " '3(Ma2Ma3(Ma2Ma6)Ma6)Mb4GNb',\n",
       " '3(Ma2Ma3(Ma2Ma6)Ma6)Mb4GNb4',\n",
       " '3(Ma2Ma3(Ma2Ma6)Ma6)Mb4GNb4GN',\n",
       " '3(Ma2Ma6)',\n",
       " '3(Ma2Ma6)Ma',\n",
       " '3(Ma2Ma6)Ma6',\n",
       " '4',\n",
       " '4GN',\n",
       " '4GNb',\n",
       " '4GNb4',\n",
       " '4GNb4GN',\n",
       " '6',\n",
       " 'Ma2Ma2Ma3(Ma2Ma3(Ma2Ma6)Ma6)',\n",
       " 'Ma2Ma3(Ma2Ma3(Ma2Ma6)Ma6)',\n",
       " 'Ma2Ma3(Ma2Ma6)',\n",
       " 'Ma3(Ma2Ma3(Ma2Ma6)Ma6)',\n",
       " 'Ma3(Ma2Ma6)'}"
      ]
     },
     "execution_count": 69,
     "metadata": {},
     "output_type": "execute_result"
    }
   ],
   "source": [
    "#These all either\n",
    "#  - end with a bond location or start with a parenthesis\n",
    "ligand_unplottables"
   ]
  },
  {
   "cell_type": "code",
   "execution_count": 70,
   "metadata": {
    "ExecuteTime": {
     "end_time": "2020-03-11T21:47:33.923403Z",
     "start_time": "2020-03-11T21:47:33.919401Z"
    },
    "scrolled": false
   },
   "outputs": [],
   "source": [
    "# for lce in LCEs:\n",
    "#     print(\"{0}: {1}\".format(lce, get_ligand_matches(lce)))"
   ]
  },
  {
   "cell_type": "markdown",
   "metadata": {},
   "source": [
    "## Krambeck et al. 2009's `continuation` \"_\""
   ]
  },
  {
   "cell_type": "markdown",
   "metadata": {},
   "source": [
    "`_` is supposed to match \"Any string (possibly empty) where every '(' is matched with a following ')'\" (Table 7)"
   ]
  },
  {
   "cell_type": "code",
   "execution_count": 71,
   "metadata": {
    "ExecuteTime": {
     "end_time": "2020-03-11T21:47:33.932341Z",
     "start_time": "2020-03-11T21:47:33.927050Z"
    }
   },
   "outputs": [],
   "source": [
    "def is_continuation_match(linear_code_expression):\n",
    "    '''\n",
    "    Indicates whether `linear_code_expression` (in its entirety) matches (i.e.\n",
    "    could be substituted with/for `_`).\n",
    "    '''\n",
    "    s = linear_code_expression\n",
    "    if len(s) == 0:\n",
    "        return True\n",
    "    return every_left_paren_has_a_right_paren(s)"
   ]
  },
  {
   "cell_type": "code",
   "execution_count": 72,
   "metadata": {
    "ExecuteTime": {
     "end_time": "2020-03-11T21:47:33.941922Z",
     "start_time": "2020-03-11T21:47:33.936087Z"
    }
   },
   "outputs": [],
   "source": [
    "def get_continuation_matches(linear_code_expression, asGenerator=False):\n",
    "    '''\n",
    "    Returns the substrings within `linear_code_expression` that match Krambeck\n",
    "    et al's `continuation` wildcard `_`.\n",
    "    '''\n",
    "    s = linear_code_expression\n",
    "    subsequences = generate_subsequences(list(tokenizer(s)), True)\n",
    "#     subsequences = generate_subsequences(s, True)\n",
    "    if asGenerator:\n",
    "        return (is_continuation_match(subseq) \n",
    "                for subseq in subsequences)\n",
    "    else:\n",
    "        return tuple(filter(is_continuation_match, subsequences))"
   ]
  },
  {
   "cell_type": "code",
   "execution_count": 73,
   "metadata": {
    "ExecuteTime": {
     "end_time": "2020-03-11T21:47:34.010815Z",
     "start_time": "2020-03-11T21:47:33.945523Z"
    }
   },
   "outputs": [
    {
     "data": {
      "text/plain": [
       "'Ma2Ma2Ma3(Ma2Ma3(Ma2Ma6)Ma6)Mb4GNb4GN'"
      ]
     },
     "execution_count": 73,
     "metadata": {},
     "output_type": "execute_result"
    },
    {
     "data": {
      "image/png": "[encoded data removed]",
      "text/plain": [
       "<Figure size 432x288 with 1 Axes>"
      ]
     },
     "metadata": {
      "needs_background": "light"
     },
     "output_type": "display_data"
    }
   ],
   "source": [
    "LCEs[0]\n",
    "parsePlot(LCEs[0])"
   ]
  },
  {
   "cell_type": "code",
   "execution_count": 74,
   "metadata": {
    "ExecuteTime": {
     "end_time": "2020-03-11T21:47:34.025546Z",
     "start_time": "2020-03-11T21:47:34.014697Z"
    }
   },
   "outputs": [
    {
     "data": {
      "text/plain": [
       "(209, 116)"
      ]
     },
     "execution_count": 74,
     "metadata": {},
     "output_type": "execute_result"
    }
   ],
   "source": [
    "my_continuation_matches, my_continuation_nonmatches = split(is_continuation_match, \n",
    "                                                            generate_subsequences(tokenizer(LCEs[0])))\n",
    "\n",
    "len(my_continuation_matches), len(my_continuation_nonmatches)"
   ]
  },
  {
   "cell_type": "code",
   "execution_count": 75,
   "metadata": {
    "ExecuteTime": {
     "end_time": "2020-03-11T21:47:39.028965Z",
     "start_time": "2020-03-11T21:47:34.028790Z"
    }
   },
   "outputs": [
    {
     "name": "stderr",
     "output_type": "stream",
     "text": [
      "/home/AD/emeinhar/anaconda3/envs/glypy/lib/python2.7/site-packages/glypy/structure/monosaccharide.py:424: UnknownCompositionWarning: x could not be found. It may not have an explicit composition\n",
      "  composition = _get_standard_composition(self)\n"
     ]
    },
    {
     "data": {
      "image/png": "[encoded data removed]",
      "text/plain": [
       "<Figure size 432x288 with 1 Axes>"
      ]
     },
     "metadata": {
      "needs_background": "light"
     },
     "output_type": "display_data"
    },
    {
     "data": {
      "image/png": "[encoded data removed]",
      "text/plain": [
       "<Figure size 432x288 with 1 Axes>"
      ]
     },
     "metadata": {
      "needs_background": "light"
     },
     "output_type": "display_data"
    },
    {
     "data": {
      "image/png": "[encoded data removed]",
      "text/plain": [
       "<Figure size 432x288 with 1 Axes>"
      ]
     },
     "metadata": {
      "needs_background": "light"
     },
     "output_type": "display_data"
    },
    {
     "data": {
      "image/png": "[encoded data removed]",
      "text/plain": [
       "<Figure size 432x288 with 1 Axes>"
      ]
     },
     "metadata": {
      "needs_background": "light"
     },
     "output_type": "display_data"
    },
    {
     "data": {
      "image/png": "[encoded data removed]",
      "text/plain": [
       "<Figure size 432x288 with 1 Axes>"
      ]
     },
     "metadata": {
      "needs_background": "light"
     },
     "output_type": "display_data"
    },
    {
     "data": {
      "image/png": "[encoded data removed]",
      "text/plain": [
       "<Figure size 432x288 with 1 Axes>"
      ]
     },
     "metadata": {
      "needs_background": "light"
     },
     "output_type": "display_data"
    },
    {
     "data": {
      "image/png": "[encoded data removed]",
      "text/plain": [
       "<Figure size 432x288 with 1 Axes>"
      ]
     },
     "metadata": {
      "needs_background": "light"
     },
     "output_type": "display_data"
    },
    {
     "data": {
      "image/png": "[encoded data removed]",
      "text/plain": [
       "<Figure size 432x288 with 1 Axes>"
      ]
     },
     "metadata": {
      "needs_background": "light"
     },
     "output_type": "display_data"
    },
    {
     "data": {
      "image/png": "[encoded data removed]",
      "text/plain": [
       "<Figure size 432x288 with 1 Axes>"
      ]
     },
     "metadata": {
      "needs_background": "light"
     },
     "output_type": "display_data"
    },
    {
     "data": {
      "image/png": "[encoded data removed]",
      "text/plain": [
       "<Figure size 432x288 with 1 Axes>"
      ]
     },
     "metadata": {
      "needs_background": "light"
     },
     "output_type": "display_data"
    },
    {
     "data": {
      "image/png": "[encoded data removed]",
      "text/plain": [
       "<Figure size 432x288 with 1 Axes>"
      ]
     },
     "metadata": {
      "needs_background": "light"
     },
     "output_type": "display_data"
    },
    {
     "data": {
      "image/png": "[encoded data removed]",
      "text/plain": [
       "<Figure size 432x288 with 1 Axes>"
      ]
     },
     "metadata": {
      "needs_background": "light"
     },
     "output_type": "display_data"
    },
    {
     "data": {
      "image/png": "[encoded data removed]",
      "text/plain": [
       "<Figure size 432x288 with 1 Axes>"
      ]
     },
     "metadata": {
      "needs_background": "light"
     },
     "output_type": "display_data"
    },
    {
     "data": {
      "image/png": "[encoded data removed]",
      "text/plain": [
       "<Figure size 432x288 with 1 Axes>"
      ]
     },
     "metadata": {
      "needs_background": "light"
     },
     "output_type": "display_data"
    },
    {
     "data": {
      "image/png": "[encoded data removed]",
      "text/plain": [
       "<Figure size 432x288 with 1 Axes>"
      ]
     },
     "metadata": {
      "needs_background": "light"
     },
     "output_type": "display_data"
    },
    {
     "data": {
      "image/png": "[encoded data removed]",
      "text/plain": [
       "<Figure size 432x288 with 1 Axes>"
      ]
     },
     "metadata": {
      "needs_background": "light"
     },
     "output_type": "display_data"
    },
    {
     "data": {
      "image/png": "[encoded data removed]",
      "text/plain": [
       "<Figure size 432x288 with 1 Axes>"
      ]
     },
     "metadata": {
      "needs_background": "light"
     },
     "output_type": "display_data"
    },
    {
     "data": {
      "image/png": "[encoded data removed]",
      "text/plain": [
       "<Figure size 432x288 with 1 Axes>"
      ]
     },
     "metadata": {
      "needs_background": "light"
     },
     "output_type": "display_data"
    },
    {
     "data": {
      "image/png": "[encoded data removed]",
      "text/plain": [
       "<Figure size 432x288 with 1 Axes>"
      ]
     },
     "metadata": {
      "needs_background": "light"
     },
     "output_type": "display_data"
    },
    {
     "data": {
      "image/png": "[encoded data removed]",
      "text/plain": [
       "<Figure size 432x288 with 1 Axes>"
      ]
     },
     "metadata": {
      "needs_background": "light"
     },
     "output_type": "display_data"
    },
    {
     "data": {
      "image/png": "[encoded data removed]",
      "text/plain": [
       "<Figure size 432x288 with 1 Axes>"
      ]
     },
     "metadata": {
      "needs_background": "light"
     },
     "output_type": "display_data"
    },
    {
     "data": {
      "image/png": "[encoded data removed]",
      "text/plain": [
       "<Figure size 432x288 with 1 Axes>"
      ]
     },
     "metadata": {
      "needs_background": "light"
     },
     "output_type": "display_data"
    },
    {
     "data": {
      "image/png": "[encoded data removed]",
      "text/plain": [
       "<Figure size 432x288 with 1 Axes>"
      ]
     },
     "metadata": {
      "needs_background": "light"
     },
     "output_type": "display_data"
    },
    {
     "data": {
      "image/png": "[encoded data removed]",
      "text/plain": [
       "<Figure size 432x288 with 1 Axes>"
      ]
     },
     "metadata": {
      "needs_background": "light"
     },
     "output_type": "display_data"
    },
    {
     "data": {
      "image/png": "[encoded data removed]",
      "text/plain": [
       "<Figure size 432x288 with 1 Axes>"
      ]
     },
     "metadata": {
      "needs_background": "light"
     },
     "output_type": "display_data"
    },
    {
     "data": {
      "image/png": "[encoded data removed]",
      "text/plain": [
       "<Figure size 432x288 with 1 Axes>"
      ]
     },
     "metadata": {
      "needs_background": "light"
     },
     "output_type": "display_data"
    },
    {
     "data": {
      "image/png": "[encoded data removed]",
      "text/plain": [
       "<Figure size 432x288 with 1 Axes>"
      ]
     },
     "metadata": {
      "needs_background": "light"
     },
     "output_type": "display_data"
    },
    {
     "data": {
      "image/png": "[encoded data removed]",
      "text/plain": [
       "<Figure size 432x288 with 1 Axes>"
      ]
     },
     "metadata": {
      "needs_background": "light"
     },
     "output_type": "display_data"
    },
    {
     "data": {
      "image/png": "[encoded data removed]",
      "text/plain": [
       "<Figure size 432x288 with 1 Axes>"
      ]
     },
     "metadata": {
      "needs_background": "light"
     },
     "output_type": "display_data"
    },
    {
     "data": {
      "image/png": "[encoded data removed]",
      "text/plain": [
       "<Figure size 432x288 with 1 Axes>"
      ]
     },
     "metadata": {
      "needs_background": "light"
     },
     "output_type": "display_data"
    },
    {
     "data": {
      "image/png": "[encoded data removed]",
      "text/plain": [
       "<Figure size 432x288 with 1 Axes>"
      ]
     },
     "metadata": {
      "needs_background": "light"
     },
     "output_type": "display_data"
    },
    {
     "data": {
      "image/png": "[encoded data removed]",
      "text/plain": [
       "<Figure size 432x288 with 1 Axes>"
      ]
     },
     "metadata": {
      "needs_background": "light"
     },
     "output_type": "display_data"
    },
    {
     "data": {
      "image/png": "[encoded data removed]",
      "text/plain": [
       "<Figure size 432x288 with 1 Axes>"
      ]
     },
     "metadata": {
      "needs_background": "light"
     },
     "output_type": "display_data"
    },
    {
     "data": {
      "image/png": "[encoded data removed]",
      "text/plain": [
       "<Figure size 432x288 with 1 Axes>"
      ]
     },
     "metadata": {
      "needs_background": "light"
     },
     "output_type": "display_data"
    },
    {
     "data": {
      "image/png": "[encoded data removed]",
      "text/plain": [
       "<Figure size 432x288 with 1 Axes>"
      ]
     },
     "metadata": {
      "needs_background": "light"
     },
     "output_type": "display_data"
    },
    {
     "data": {
      "image/png": "[encoded data removed]",
      "text/plain": [
       "<Figure size 432x288 with 1 Axes>"
      ]
     },
     "metadata": {
      "needs_background": "light"
     },
     "output_type": "display_data"
    },
    {
     "data": {
      "image/png": "[encoded data removed]",
      "text/plain": [
       "<Figure size 432x288 with 1 Axes>"
      ]
     },
     "metadata": {
      "needs_background": "light"
     },
     "output_type": "display_data"
    },
    {
     "data": {
      "image/png": "[encoded data removed]",
      "text/plain": [
       "<Figure size 432x288 with 1 Axes>"
      ]
     },
     "metadata": {
      "needs_background": "light"
     },
     "output_type": "display_data"
    },
    {
     "data": {
      "image/png": "[encoded data removed]",
      "text/plain": [
       "<Figure size 432x288 with 1 Axes>"
      ]
     },
     "metadata": {
      "needs_background": "light"
     },
     "output_type": "display_data"
    },
    {
     "data": {
      "image/png": "[encoded data removed]",
      "text/plain": [
       "<Figure size 432x288 with 1 Axes>"
      ]
     },
     "metadata": {
      "needs_background": "light"
     },
     "output_type": "display_data"
    },
    {
     "data": {
      "image/png": "[encoded data removed]",
      "text/plain": [
       "<Figure size 432x288 with 1 Axes>"
      ]
     },
     "metadata": {
      "needs_background": "light"
     },
     "output_type": "display_data"
    },
    {
     "data": {
      "image/png": "[encoded data removed]",
      "text/plain": [
       "<Figure size 432x288 with 1 Axes>"
      ]
     },
     "metadata": {
      "needs_background": "light"
     },
     "output_type": "display_data"
    },
    {
     "data": {
      "image/png": "[encoded data removed]",
      "text/plain": [
       "<Figure size 432x288 with 1 Axes>"
      ]
     },
     "metadata": {
      "needs_background": "light"
     },
     "output_type": "display_data"
    },
    {
     "data": {
      "image/png": "[encoded data removed]",
      "text/plain": [
       "<Figure size 432x288 with 1 Axes>"
      ]
     },
     "metadata": {
      "needs_background": "light"
     },
     "output_type": "display_data"
    },
    {
     "data": {
      "image/png": "[encoded data removed]",
      "text/plain": [
       "<Figure size 432x288 with 1 Axes>"
      ]
     },
     "metadata": {
      "needs_background": "light"
     },
     "output_type": "display_data"
    },
    {
     "data": {
      "image/png": "[encoded data removed]",
      "text/plain": [
       "<Figure size 432x288 with 1 Axes>"
      ]
     },
     "metadata": {
      "needs_background": "light"
     },
     "output_type": "display_data"
    },
    {
     "data": {
      "image/png": "[encoded data removed]",
      "text/plain": [
       "<Figure size 432x288 with 1 Axes>"
      ]
     },
     "metadata": {
      "needs_background": "light"
     },
     "output_type": "display_data"
    },
    {
     "data": {
      "image/png": "[encoded data removed]",
      "text/plain": [
       "<Figure size 432x288 with 1 Axes>"
      ]
     },
     "metadata": {
      "needs_background": "light"
     },
     "output_type": "display_data"
    },
    {
     "data": {
      "image/png": "[encoded data removed]",
      "text/plain": [
       "<Figure size 432x288 with 1 Axes>"
      ]
     },
     "metadata": {
      "needs_background": "light"
     },
     "output_type": "display_data"
    },
    {
     "data": {
      "image/png": "[encoded data removed]",
      "text/plain": [
       "<Figure size 432x288 with 1 Axes>"
      ]
     },
     "metadata": {
      "needs_background": "light"
     },
     "output_type": "display_data"
    },
    {
     "data": {
      "image/png": "[encoded data removed]",
      "text/plain": [
       "<Figure size 432x288 with 1 Axes>"
      ]
     },
     "metadata": {
      "needs_background": "light"
     },
     "output_type": "display_data"
    },
    {
     "data": {
      "image/png": "[encoded data removed]",
      "text/plain": [
       "<Figure size 432x288 with 1 Axes>"
      ]
     },
     "metadata": {
      "needs_background": "light"
     },
     "output_type": "display_data"
    },
    {
     "data": {
      "image/png": "[encoded data removed]",
      "text/plain": [
       "<Figure size 432x288 with 1 Axes>"
      ]
     },
     "metadata": {
      "needs_background": "light"
     },
     "output_type": "display_data"
    },
    {
     "data": {
      "image/png": "[encoded data removed]",
      "text/plain": [
       "<Figure size 432x288 with 1 Axes>"
      ]
     },
     "metadata": {
      "needs_background": "light"
     },
     "output_type": "display_data"
    },
    {
     "data": {
      "image/png": "[encoded data removed]",
      "text/plain": [
       "<Figure size 432x288 with 1 Axes>"
      ]
     },
     "metadata": {
      "needs_background": "light"
     },
     "output_type": "display_data"
    },
    {
     "data": {
      "image/png": "[encoded data removed]",
      "text/plain": [
       "<Figure size 432x288 with 1 Axes>"
      ]
     },
     "metadata": {
      "needs_background": "light"
     },
     "output_type": "display_data"
    },
    {
     "data": {
      "image/png": "[encoded data removed]",
      "text/plain": [
       "<Figure size 432x288 with 1 Axes>"
      ]
     },
     "metadata": {
      "needs_background": "light"
     },
     "output_type": "display_data"
    },
    {
     "data": {
      "image/png": "[encoded data removed]",
      "text/plain": [
       "<Figure size 432x288 with 1 Axes>"
      ]
     },
     "metadata": {
      "needs_background": "light"
     },
     "output_type": "display_data"
    },
    {
     "data": {
      "image/png": "[encoded data removed]",
      "text/plain": [
       "<Figure size 432x288 with 1 Axes>"
      ]
     },
     "metadata": {
      "needs_background": "light"
     },
     "output_type": "display_data"
    },
    {
     "data": {
      "image/png": "[encoded data removed]",
      "text/plain": [
       "<Figure size 432x288 with 1 Axes>"
      ]
     },
     "metadata": {
      "needs_background": "light"
     },
     "output_type": "display_data"
    },
    {
     "data": {
      "image/png": "[encoded data removed]",
      "text/plain": [
       "<Figure size 432x288 with 1 Axes>"
      ]
     },
     "metadata": {
      "needs_background": "light"
     },
     "output_type": "display_data"
    },
    {
     "data": {
      "image/png": "[encoded data removed]",
      "text/plain": [
       "<Figure size 432x288 with 1 Axes>"
      ]
     },
     "metadata": {
      "needs_background": "light"
     },
     "output_type": "display_data"
    },
    {
     "data": {
      "image/png": "[encoded data removed]",
      "text/plain": [
       "<Figure size 432x288 with 1 Axes>"
      ]
     },
     "metadata": {
      "needs_background": "light"
     },
     "output_type": "display_data"
    },
    {
     "data": {
      "image/png": "[encoded data removed]",
      "text/plain": [
       "<Figure size 432x288 with 1 Axes>"
      ]
     },
     "metadata": {
      "needs_background": "light"
     },
     "output_type": "display_data"
    },
    {
     "data": {
      "image/png": "[encoded data removed]",
      "text/plain": [
       "<Figure size 432x288 with 1 Axes>"
      ]
     },
     "metadata": {
      "needs_background": "light"
     },
     "output_type": "display_data"
    },
    {
     "data": {
      "image/png": "[encoded data removed]",
      "text/plain": [
       "<Figure size 432x288 with 1 Axes>"
      ]
     },
     "metadata": {
      "needs_background": "light"
     },
     "output_type": "display_data"
    },
    {
     "data": {
      "image/png": "[encoded data removed]",
      "text/plain": [
       "<Figure size 432x288 with 1 Axes>"
      ]
     },
     "metadata": {
      "needs_background": "light"
     },
     "output_type": "display_data"
    },
    {
     "data": {
      "image/png": "[encoded data removed]",
      "text/plain": [
       "<Figure size 432x288 with 1 Axes>"
      ]
     },
     "metadata": {
      "needs_background": "light"
     },
     "output_type": "display_data"
    },
    {
     "data": {
      "image/png": "[encoded data removed]",
      "text/plain": [
       "<Figure size 432x288 with 1 Axes>"
      ]
     },
     "metadata": {
      "needs_background": "light"
     },
     "output_type": "display_data"
    },
    {
     "data": {
      "image/png": "[encoded data removed]",
      "text/plain": [
       "<Figure size 432x288 with 1 Axes>"
      ]
     },
     "metadata": {
      "needs_background": "light"
     },
     "output_type": "display_data"
    },
    {
     "data": {
      "image/png": "[encoded data removed]",
      "text/plain": [
       "<Figure size 432x288 with 1 Axes>"
      ]
     },
     "metadata": {
      "needs_background": "light"
     },
     "output_type": "display_data"
    },
    {
     "data": {
      "image/png": "[encoded data removed]",
      "text/plain": [
       "<Figure size 432x288 with 1 Axes>"
      ]
     },
     "metadata": {
      "needs_background": "light"
     },
     "output_type": "display_data"
    },
    {
     "data": {
      "image/png": "[encoded data removed]",
      "text/plain": [
       "<Figure size 432x288 with 1 Axes>"
      ]
     },
     "metadata": {
      "needs_background": "light"
     },
     "output_type": "display_data"
    },
    {
     "data": {
      "image/png": "[encoded data removed]",
      "text/plain": [
       "<Figure size 432x288 with 1 Axes>"
      ]
     },
     "metadata": {
      "needs_background": "light"
     },
     "output_type": "display_data"
    },
    {
     "data": {
      "image/png": "[encoded data removed]",
      "text/plain": [
       "<Figure size 432x288 with 1 Axes>"
      ]
     },
     "metadata": {
      "needs_background": "light"
     },
     "output_type": "display_data"
    },
    {
     "data": {
      "image/png": "[encoded data removed]",
      "text/plain": [
       "<Figure size 432x288 with 1 Axes>"
      ]
     },
     "metadata": {
      "needs_background": "light"
     },
     "output_type": "display_data"
    },
    {
     "data": {
      "image/png": "[encoded data removed]",
      "text/plain": [
       "<Figure size 432x288 with 1 Axes>"
      ]
     },
     "metadata": {
      "needs_background": "light"
     },
     "output_type": "display_data"
    },
    {
     "data": {
      "image/png": "[encoded data removed]",
      "text/plain": [
       "<Figure size 432x288 with 1 Axes>"
      ]
     },
     "metadata": {
      "needs_background": "light"
     },
     "output_type": "display_data"
    },
    {
     "data": {
      "image/png": "[encoded data removed]",
      "text/plain": [
       "<Figure size 432x288 with 1 Axes>"
      ]
     },
     "metadata": {
      "needs_background": "light"
     },
     "output_type": "display_data"
    },
    {
     "data": {
      "image/png": "[encoded data removed]",
      "text/plain": [
       "<Figure size 432x288 with 1 Axes>"
      ]
     },
     "metadata": {
      "needs_background": "light"
     },
     "output_type": "display_data"
    },
    {
     "data": {
      "image/png": "[encoded data removed]",
      "text/plain": [
       "<Figure size 432x288 with 1 Axes>"
      ]
     },
     "metadata": {
      "needs_background": "light"
     },
     "output_type": "display_data"
    },
    {
     "data": {
      "image/png": "[encoded data removed]",
      "text/plain": [
       "<Figure size 432x288 with 1 Axes>"
      ]
     },
     "metadata": {
      "needs_background": "light"
     },
     "output_type": "display_data"
    },
    {
     "data": {
      "image/png": "[encoded data removed]",
      "text/plain": [
       "<Figure size 432x288 with 1 Axes>"
      ]
     },
     "metadata": {
      "needs_background": "light"
     },
     "output_type": "display_data"
    },
    {
     "data": {
      "image/png": "[encoded data removed]",
      "text/plain": [
       "<Figure size 432x288 with 1 Axes>"
      ]
     },
     "metadata": {
      "needs_background": "light"
     },
     "output_type": "display_data"
    },
    {
     "data": {
      "image/png": "[encoded data removed]",
      "text/plain": [
       "<Figure size 432x288 with 1 Axes>"
      ]
     },
     "metadata": {
      "needs_background": "light"
     },
     "output_type": "display_data"
    },
    {
     "data": {
      "image/png": "[encoded data removed]",
      "text/plain": [
       "<Figure size 432x288 with 1 Axes>"
      ]
     },
     "metadata": {
      "needs_background": "light"
     },
     "output_type": "display_data"
    },
    {
     "data": {
      "image/png": "[encoded data removed]",
      "text/plain": [
       "<Figure size 432x288 with 1 Axes>"
      ]
     },
     "metadata": {
      "needs_background": "light"
     },
     "output_type": "display_data"
    },
    {
     "data": {
      "image/png": "[encoded data removed]",
      "text/plain": [
       "<Figure size 432x288 with 1 Axes>"
      ]
     },
     "metadata": {
      "needs_background": "light"
     },
     "output_type": "display_data"
    },
    {
     "data": {
      "image/png": "[encoded data removed]",
      "text/plain": [
       "<Figure size 432x288 with 1 Axes>"
      ]
     },
     "metadata": {
      "needs_background": "light"
     },
     "output_type": "display_data"
    },
    {
     "data": {
      "image/png": "[encoded data removed]",
      "text/plain": [
       "<Figure size 432x288 with 1 Axes>"
      ]
     },
     "metadata": {
      "needs_background": "light"
     },
     "output_type": "display_data"
    },
    {
     "data": {
      "image/png": "[encoded data removed]",
      "text/plain": [
       "<Figure size 432x288 with 1 Axes>"
      ]
     },
     "metadata": {
      "needs_background": "light"
     },
     "output_type": "display_data"
    },
    {
     "data": {
      "image/png": "[encoded data removed]",
      "text/plain": [
       "<Figure size 432x288 with 1 Axes>"
      ]
     },
     "metadata": {
      "needs_background": "light"
     },
     "output_type": "display_data"
    },
    {
     "data": {
      "image/png": "[encoded data removed]",
      "text/plain": [
       "<Figure size 432x288 with 1 Axes>"
      ]
     },
     "metadata": {
      "needs_background": "light"
     },
     "output_type": "display_data"
    },
    {
     "data": {
      "image/png": "[encoded data removed]",
      "text/plain": [
       "<Figure size 432x288 with 1 Axes>"
      ]
     },
     "metadata": {
      "needs_background": "light"
     },
     "output_type": "display_data"
    },
    {
     "data": {
      "image/png": "[encoded data removed]",
      "text/plain": [
       "<Figure size 432x288 with 1 Axes>"
      ]
     },
     "metadata": {
      "needs_background": "light"
     },
     "output_type": "display_data"
    },
    {
     "data": {
      "image/png": "[encoded data removed]",
      "text/plain": [
       "<Figure size 432x288 with 1 Axes>"
      ]
     },
     "metadata": {
      "needs_background": "light"
     },
     "output_type": "display_data"
    },
    {
     "data": {
      "image/png": "[encoded data removed]",
      "text/plain": [
       "<Figure size 432x288 with 1 Axes>"
      ]
     },
     "metadata": {
      "needs_background": "light"
     },
     "output_type": "display_data"
    },
    {
     "data": {
      "image/png": "[encoded data removed]",
      "text/plain": [
       "<Figure size 432x288 with 1 Axes>"
      ]
     },
     "metadata": {
      "needs_background": "light"
     },
     "output_type": "display_data"
    },
    {
     "data": {
      "image/png": "[encoded data removed]",
      "text/plain": [
       "<Figure size 432x288 with 1 Axes>"
      ]
     },
     "metadata": {
      "needs_background": "light"
     },
     "output_type": "display_data"
    },
    {
     "data": {
      "image/png": "[encoded data removed]",
      "text/plain": [
       "<Figure size 432x288 with 1 Axes>"
      ]
     },
     "metadata": {
      "needs_background": "light"
     },
     "output_type": "display_data"
    },
    {
     "data": {
      "image/png": "[encoded data removed]",
      "text/plain": [
       "<Figure size 432x288 with 1 Axes>"
      ]
     },
     "metadata": {
      "needs_background": "light"
     },
     "output_type": "display_data"
    },
    {
     "data": {
      "image/png": "[encoded data removed]",
      "text/plain": [
       "<Figure size 432x288 with 1 Axes>"
      ]
     },
     "metadata": {
      "needs_background": "light"
     },
     "output_type": "display_data"
    },
    {
     "data": {
      "image/png": "[encoded data removed]",
      "text/plain": [
       "<Figure size 432x288 with 1 Axes>"
      ]
     },
     "metadata": {
      "needs_background": "light"
     },
     "output_type": "display_data"
    },
    {
     "data": {
      "image/png": "[encoded data removed]",
      "text/plain": [
       "<Figure size 432x288 with 1 Axes>"
      ]
     },
     "metadata": {
      "needs_background": "light"
     },
     "output_type": "display_data"
    },
    {
     "data": {
      "image/png": "[encoded data removed]",
      "text/plain": [
       "<Figure size 432x288 with 1 Axes>"
      ]
     },
     "metadata": {
      "needs_background": "light"
     },
     "output_type": "display_data"
    },
    {
     "data": {
      "image/png": "[encoded data removed]",
      "text/plain": [
       "<Figure size 432x288 with 1 Axes>"
      ]
     },
     "metadata": {
      "needs_background": "light"
     },
     "output_type": "display_data"
    },
    {
     "data": {
      "image/png": "[encoded data removed]",
      "text/plain": [
       "<Figure size 432x288 with 1 Axes>"
      ]
     },
     "metadata": {
      "needs_background": "light"
     },
     "output_type": "display_data"
    },
    {
     "data": {
      "image/png": "[encoded data removed]",
      "text/plain": [
       "<Figure size 432x288 with 1 Axes>"
      ]
     },
     "metadata": {
      "needs_background": "light"
     },
     "output_type": "display_data"
    },
    {
     "data": {
      "image/png": "[encoded data removed]",
      "text/plain": [
       "<Figure size 432x288 with 1 Axes>"
      ]
     },
     "metadata": {
      "needs_background": "light"
     },
     "output_type": "display_data"
    },
    {
     "data": {
      "image/png": "[encoded data removed]",
      "text/plain": [
       "<Figure size 432x288 with 1 Axes>"
      ]
     },
     "metadata": {
      "needs_background": "light"
     },
     "output_type": "display_data"
    },
    {
     "data": {
      "image/png": "[encoded data removed]",
      "text/plain": [
       "<Figure size 432x288 with 1 Axes>"
      ]
     },
     "metadata": {
      "needs_background": "light"
     },
     "output_type": "display_data"
    },
    {
     "data": {
      "image/png": "[encoded data removed]",
      "text/plain": [
       "<Figure size 432x288 with 1 Axes>"
      ]
     },
     "metadata": {
      "needs_background": "light"
     },
     "output_type": "display_data"
    },
    {
     "data": {
      "image/png": "[encoded data removed]",
      "text/plain": [
       "<Figure size 432x288 with 1 Axes>"
      ]
     },
     "metadata": {
      "needs_background": "light"
     },
     "output_type": "display_data"
    },
    {
     "data": {
      "image/png": "[encoded data removed]",
      "text/plain": [
       "<Figure size 432x288 with 1 Axes>"
      ]
     },
     "metadata": {
      "needs_background": "light"
     },
     "output_type": "display_data"
    },
    {
     "data": {
      "image/png": "[encoded data removed]",
      "text/plain": [
       "<Figure size 432x288 with 1 Axes>"
      ]
     },
     "metadata": {
      "needs_background": "light"
     },
     "output_type": "display_data"
    },
    {
     "data": {
      "image/png": "[encoded data removed]",
      "text/plain": [
       "<Figure size 432x288 with 1 Axes>"
      ]
     },
     "metadata": {
      "needs_background": "light"
     },
     "output_type": "display_data"
    },
    {
     "data": {
      "image/png": "[encoded data removed]",
      "text/plain": [
       "<Figure size 432x288 with 1 Axes>"
      ]
     },
     "metadata": {
      "needs_background": "light"
     },
     "output_type": "display_data"
    },
    {
     "data": {
      "image/png": "[encoded data removed]",
      "text/plain": [
       "<Figure size 432x288 with 1 Axes>"
      ]
     },
     "metadata": {
      "needs_background": "light"
     },
     "output_type": "display_data"
    }
   ],
   "source": [
    "continuation_plottables = set()\n",
    "continuation_unplottables = set()\n",
    "for each_match in my_continuation_matches:\n",
    "    each_lc = str_join('', each_match)\n",
    "    try:\n",
    "        parsePlot(each_lc)\n",
    "        continuation_plottables.add(each_lc)\n",
    "    except Exception as e:\n",
    "        continuation_unplottables.add(each_lc)"
   ]
  },
  {
   "cell_type": "code",
   "execution_count": 76,
   "metadata": {
    "ExecuteTime": {
     "end_time": "2020-03-11T21:47:39.040333Z",
     "start_time": "2020-03-11T21:47:39.032866Z"
    }
   },
   "outputs": [
    {
     "data": {
      "text/plain": [
       "'Ma2Ma2Ma3(Ma2Ma3(Ma2Ma6)Ma6)Mb4GNb4GN'"
      ]
     },
     "execution_count": 76,
     "metadata": {},
     "output_type": "execute_result"
    }
   ],
   "source": [
    "LCEs[0]"
   ]
  },
  {
   "cell_type": "code",
   "execution_count": 77,
   "metadata": {
    "ExecuteTime": {
     "end_time": "2020-03-11T21:47:39.054223Z",
     "start_time": "2020-03-11T21:47:39.044352Z"
    }
   },
   "outputs": [
    {
     "data": {
      "text/plain": [
       "['Ma2Ma6)Ma6)',\n",
       " ')Ma6)',\n",
       " 'Ma2Ma3(Ma2Ma3(Ma2Ma6)Ma6)Mb',\n",
       " 'Ma6)Ma6)Mb',\n",
       " 'Ma6)Mb4GNb4',\n",
       " 'Ma6)Mb4',\n",
       " 'Ma2Ma3(Ma2Ma6)Ma6)Mb4GNb4GN',\n",
       " 'Ma2Ma6)Ma6)Mb4',\n",
       " 'Ma2Ma3(Ma2Ma6)Ma6)Mb4GNb',\n",
       " 'Ma2Ma3(Ma2Ma3(Ma2Ma6)Ma6)Mb4GNb4',\n",
       " 'Mb4GNb4',\n",
       " 'Ma2Ma2Ma3(Ma2Ma3(Ma2Ma6)Ma6)Mb4',\n",
       " '(Ma2Ma6)Ma6)',\n",
       " 'Ma2Ma6)Ma6)Mb',\n",
       " 'Ma3(Ma2Ma6)Ma6)',\n",
       " 'Ma2Ma3(Ma2Ma6)Ma6)Mb',\n",
       " 'GN',\n",
       " 'Ma6)Ma',\n",
       " 'Ma6)Mb',\n",
       " '(Ma2Ma3(Ma2Ma6)Ma6)Mb4GNb4',\n",
       " 'Ma3(Ma2Ma6)Ma6',\n",
       " '(Ma2Ma6)Ma6',\n",
       " 'Ma6)',\n",
       " '(Ma2Ma6)Ma6)Mb4GNb4',\n",
       " ')Mb4GNb4GN',\n",
       " '(Ma2Ma6)Ma6)Mb',\n",
       " 'Ma6)Ma6',\n",
       " 'Ma2Ma3(Ma2Ma3(Ma2Ma6)Ma6)Mb4GNb',\n",
       " 'Ma6)Ma6)Mb4GNb4',\n",
       " 'Ma2Ma3(Ma2Ma6)Ma6)',\n",
       " ')Mb4',\n",
       " 'Ma2Ma2Ma3(Ma2Ma3(Ma2Ma6)Ma6)Mb4GNb4GN',\n",
       " 'Ma2Ma2Ma3(Ma2Ma3(Ma2Ma6)Ma6)Mb4GNb',\n",
       " 'Ma3(Ma2Ma6)Ma6)Mb',\n",
       " 'Ma',\n",
       " 'Mb',\n",
       " ')Ma6)Mb4GNb4GN',\n",
       " 'Ma2Ma6)Ma6)Mb4GNb4',\n",
       " 'Ma2Ma6)Ma',\n",
       " 'Ma2Ma3(Ma2Ma6)Ma',\n",
       " 'Ma3(Ma2Ma3(Ma2Ma6)Ma6)Mb4GNb4',\n",
       " 'Ma3(Ma2Ma6)Ma',\n",
       " 'Ma2Ma2Ma3',\n",
       " '(Ma2Ma6)Ma',\n",
       " ')Ma6)Mb',\n",
       " 'Ma3(Ma2Ma3(Ma2Ma6)Ma6)Mb',\n",
       " '(Ma2Ma6)Ma6)Mb4GNb',\n",
       " 'Ma6)Ma6)Mb4GNb4GN',\n",
       " 'Ma2Ma3(Ma2Ma6)Ma6)Mb4GNb4',\n",
       " 'Ma6)Ma6)Mb4GNb',\n",
       " '(Ma2Ma6)Ma6)Mb4',\n",
       " 'Ma6)Ma6)Mb4',\n",
       " '(Ma2Ma3(Ma2Ma6)Ma6)Mb4GNb4GN',\n",
       " 'Ma3(Ma2Ma6)Ma6)Mb4',\n",
       " 'Ma3(Ma2Ma6)Ma6)Mb4GNb4GN',\n",
       " 'Ma6)Ma6)',\n",
       " 'Ma2Ma6)Ma6',\n",
       " '(Ma2Ma6)Ma6)Mb4GNb4GN',\n",
       " ')Ma6)Mb4',\n",
       " 'GNb4GN',\n",
       " 'Ma2Ma6)Ma6)Mb4GNb',\n",
       " 'Mb4GNb4GN',\n",
       " 'Ma3(Ma2Ma3(Ma2Ma6)Ma6)Mb4',\n",
       " ')Ma6)Mb4GNb4',\n",
       " 'Ma2Ma3(Ma2Ma3(Ma2Ma6)Ma6)Mb4',\n",
       " 'Ma2Ma',\n",
       " 'Ma3(Ma2Ma6)Ma6)Mb4GNb4',\n",
       " ')Ma6',\n",
       " ')Ma',\n",
       " ')Mb4GNb4',\n",
       " 'Ma2Ma6',\n",
       " ')Mb',\n",
       " 'Ma3(Ma2Ma3(Ma2Ma6)Ma6)Mb4GNb',\n",
       " 'Ma2Ma2',\n",
       " 'Ma2Ma3',\n",
       " 'Ma3(Ma2Ma3(Ma2Ma6)Ma6)Mb4GNb4GN',\n",
       " '(Ma2Ma3(Ma2Ma6)Ma6)Mb',\n",
       " 'Ma2Ma3(Ma2Ma3(Ma2Ma6)Ma6)Mb4GNb4GN',\n",
       " 'Ma3(Ma2Ma6)Ma6)Mb4GNb',\n",
       " 'Mb4GNb',\n",
       " ')Ma6)Mb4GNb',\n",
       " 'Ma2Ma6)',\n",
       " 'Ma2Ma6)Ma6)Mb4GNb4GN',\n",
       " ')',\n",
       " '(Ma2Ma3(Ma2Ma6)Ma6)Mb4',\n",
       " 'GNb',\n",
       " 'Mb4',\n",
       " 'Ma6)Mb4GNb',\n",
       " 'Ma2Ma3(Ma2Ma6)Ma6)Mb4',\n",
       " 'Ma2Ma3(Ma2Ma6)Ma6',\n",
       " 'Ma2Ma2Ma',\n",
       " 'Ma2Ma2Ma3(Ma2Ma3(Ma2Ma6)Ma6)Mb4GNb4',\n",
       " 'Ma3',\n",
       " 'Ma2',\n",
       " 'Ma6',\n",
       " 'GNb4',\n",
       " 'Ma6)Mb4GNb4GN',\n",
       " '(Ma2Ma3(Ma2Ma6)Ma6)Mb4GNb',\n",
       " ')Mb4GNb',\n",
       " 'Ma2Ma2Ma3(Ma2Ma3(Ma2Ma6)Ma6)Mb']"
      ]
     },
     "execution_count": 77,
     "metadata": {},
     "output_type": "execute_result"
    }
   ],
   "source": [
    "list(continuation_plottables)"
   ]
  },
  {
   "cell_type": "code",
   "execution_count": 78,
   "metadata": {
    "ExecuteTime": {
     "end_time": "2020-03-11T21:47:39.067393Z",
     "start_time": "2020-03-11T21:47:39.058114Z"
    }
   },
   "outputs": [
    {
     "data": {
      "text/plain": [
       "['3(Ma2Ma6)Ma6)Mb',\n",
       " '2Ma3(Ma2Ma3(Ma2Ma6)Ma6)',\n",
       " '6)',\n",
       " '2Ma2Ma3(Ma2Ma3(Ma2Ma6)Ma6)Mb4',\n",
       " '6)Ma6)Mb4',\n",
       " '4GNb4',\n",
       " '3(Ma2Ma6)Ma6)Mb4',\n",
       " '2Ma3(Ma2Ma6)Ma6)Mb4GNb',\n",
       " '6)Ma6)Mb4GNb4GN',\n",
       " '2Ma6)Ma',\n",
       " '6)Ma6)Mb4GNb',\n",
       " '6)Mb',\n",
       " '3(Ma2Ma3(Ma2Ma6)Ma6)Mb',\n",
       " '2Ma6)Ma6)Mb',\n",
       " '3(Ma2Ma6)Ma6)Mb4GNb4',\n",
       " '6)Ma6)Mb4GNb4',\n",
       " '2Ma',\n",
       " '3(Ma2Ma3(Ma2Ma6)Ma6)Mb4GNb4',\n",
       " '2Ma6',\n",
       " '2Ma3(Ma2Ma6)Ma6)',\n",
       " '(Ma2Ma6)',\n",
       " '2Ma2Ma',\n",
       " '2Ma3',\n",
       " '3(Ma2Ma3(Ma2Ma6)Ma6)Mb4GNb4GN',\n",
       " '6)Ma6',\n",
       " '2Ma3(Ma2Ma6)Ma6)Mb4',\n",
       " '6)Mb4GNb4',\n",
       " '4GNb4GN',\n",
       " '3',\n",
       " '2',\n",
       " '2Ma3(Ma2Ma6)Ma',\n",
       " '2Ma3(Ma2Ma3(Ma2Ma6)Ma6)Mb4GNb',\n",
       " '3(Ma2Ma6)Ma6)Mb4GNb',\n",
       " '2Ma3(Ma2Ma3(Ma2Ma6)Ma6)Mb4',\n",
       " '4',\n",
       " '3(Ma2Ma3(Ma2Ma6)Ma6)Mb4GNb',\n",
       " '2Ma6)Ma6)Mb4',\n",
       " '6)Mb4GNb',\n",
       " '3(Ma2Ma6)Ma',\n",
       " '6)Mb4',\n",
       " '(Ma2Ma3(Ma2Ma6)Ma6)',\n",
       " '2Ma6)',\n",
       " '4GN',\n",
       " '6',\n",
       " '2Ma3(Ma2Ma6)Ma6)Mb',\n",
       " '2Ma6)Ma6)',\n",
       " '6)Ma6)Mb',\n",
       " '2Ma3(Ma2Ma6)Ma6',\n",
       " 'Ma3(Ma2Ma6)',\n",
       " '2Ma2Ma3',\n",
       " '2Ma3(Ma2Ma6)Ma6)Mb4GNb4GN',\n",
       " '2Ma2Ma3(Ma2Ma3(Ma2Ma6)Ma6)Mb4GNb',\n",
       " 'Ma2Ma3(Ma2Ma3(Ma2Ma6)Ma6)',\n",
       " '2Ma6)Ma6)Mb4GNb4',\n",
       " 'Ma2Ma3(Ma2Ma6)',\n",
       " '2Ma2Ma3(Ma2Ma3(Ma2Ma6)Ma6)',\n",
       " '2Ma3(Ma2Ma3(Ma2Ma6)Ma6)Mb4GNb4GN',\n",
       " '3(Ma2Ma3(Ma2Ma6)Ma6)Mb4',\n",
       " '2Ma6)Ma6',\n",
       " '3(Ma2Ma6)Ma6',\n",
       " '4GNb',\n",
       " '6)Ma6)',\n",
       " '2Ma2',\n",
       " '2Ma3(Ma2Ma6)',\n",
       " '2Ma3(Ma2Ma3(Ma2Ma6)Ma6)Mb',\n",
       " '3(Ma2Ma6)Ma6)Mb4GNb4GN',\n",
       " '2Ma6)Ma6)Mb4GNb',\n",
       " '3(Ma2Ma6)Ma6)',\n",
       " '2Ma2Ma3(Ma2Ma3(Ma2Ma6)Ma6)Mb',\n",
       " '3(Ma2Ma3(Ma2Ma6)Ma6)',\n",
       " '2Ma3(Ma2Ma6)Ma6)Mb4GNb4',\n",
       " '3(Ma2Ma6)',\n",
       " 'Ma3(Ma2Ma3(Ma2Ma6)Ma6)',\n",
       " '2Ma6)Ma6)Mb4GNb4GN',\n",
       " '2Ma2Ma3(Ma2Ma3(Ma2Ma6)Ma6)Mb4GNb4GN',\n",
       " '6)Ma',\n",
       " '2Ma3(Ma2Ma3(Ma2Ma6)Ma6)Mb4GNb4',\n",
       " '2Ma2Ma3(Ma2Ma3(Ma2Ma6)Ma6)Mb4GNb4',\n",
       " '6)Mb4GNb4GN',\n",
       " 'Ma2Ma2Ma3(Ma2Ma3(Ma2Ma6)Ma6)']"
      ]
     },
     "execution_count": 78,
     "metadata": {},
     "output_type": "execute_result"
    }
   ],
   "source": [
    "list(continuation_unplottables)"
   ]
  },
  {
   "cell_type": "markdown",
   "metadata": {},
   "source": [
    "## Comparing ligand matches to continuation matches"
   ]
  },
  {
   "cell_type": "code",
   "execution_count": 79,
   "metadata": {
    "ExecuteTime": {
     "end_time": "2020-03-11T21:47:39.081075Z",
     "start_time": "2020-03-11T21:47:39.071373Z"
    }
   },
   "outputs": [
    {
     "data": {
      "text/plain": [
       "116"
      ]
     },
     "execution_count": 79,
     "metadata": {},
     "output_type": "execute_result"
    },
    {
     "data": {
      "text/plain": [
       "209"
      ]
     },
     "execution_count": 79,
     "metadata": {},
     "output_type": "execute_result"
    }
   ],
   "source": [
    "len(my_ligand_matches)\n",
    "len(my_continuation_matches)"
   ]
  },
  {
   "cell_type": "code",
   "execution_count": 80,
   "metadata": {
    "ExecuteTime": {
     "end_time": "2020-03-11T21:47:39.097526Z",
     "start_time": "2020-03-11T21:47:39.084828Z"
    }
   },
   "outputs": [
    {
     "data": {
      "text/plain": [
       "90"
      ]
     },
     "execution_count": 80,
     "metadata": {},
     "output_type": "execute_result"
    },
    {
     "data": {
      "text/plain": [
       "180"
      ]
     },
     "execution_count": 80,
     "metadata": {},
     "output_type": "execute_result"
    }
   ],
   "source": [
    "len(set(map(tuple, my_ligand_matches)))\n",
    "len(set(map(tuple, my_continuation_matches)))\n",
    "\n",
    "my_ligand_matches_unique = set(map(tuple, my_ligand_matches))\n",
    "my_continuation_matches_unique = set(map(tuple, my_continuation_matches))"
   ]
  },
  {
   "cell_type": "code",
   "execution_count": 81,
   "metadata": {
    "ExecuteTime": {
     "end_time": "2020-03-11T21:47:39.111883Z",
     "start_time": "2020-03-11T21:47:39.101303Z"
    }
   },
   "outputs": [
    {
     "data": {
      "text/plain": [
       "0"
      ]
     },
     "execution_count": 81,
     "metadata": {},
     "output_type": "execute_result"
    },
    {
     "data": {
      "text/plain": [
       "90"
      ]
     },
     "execution_count": 81,
     "metadata": {},
     "output_type": "execute_result"
    }
   ],
   "source": [
    "len(my_ligand_matches_unique - my_continuation_matches_unique)\n",
    "len(my_continuation_matches_unique - my_ligand_matches_unique)"
   ]
  },
  {
   "cell_type": "markdown",
   "metadata": {},
   "source": [
    "As might be expected from their definitions, `ligand` wildcard matches are a proper subset of `continuation` matches. Let's take a look at what's unique to `continuation` matches relative to `ligand` matches:"
   ]
  },
  {
   "cell_type": "code",
   "execution_count": 82,
   "metadata": {
    "ExecuteTime": {
     "end_time": "2020-03-11T21:47:39.127336Z",
     "start_time": "2020-03-11T21:47:39.115719Z"
    }
   },
   "outputs": [
    {
     "data": {
      "text/plain": [
       "['2Ma6)Ma',\n",
       " '6)',\n",
       " '(Ma2Ma6)Ma6)Mb4GNb',\n",
       " 'Ma2Ma6)Ma6',\n",
       " 'Ma3(Ma2Ma6)Ma6)Mb4GNb4',\n",
       " '(Ma2Ma6)Ma6)Mb4GNb4',\n",
       " '3(Ma2Ma6)Ma6)Mb4GNb4',\n",
       " '2Ma6)Ma6)',\n",
       " '3(Ma2Ma6)Ma6)',\n",
       " ')Ma6',\n",
       " 'Ma3(Ma2Ma6)Ma6)Mb4GNb',\n",
       " ')Ma6)Mb4',\n",
       " 'Ma6)Ma6)Mb4',\n",
       " 'Ma6)Ma6)Mb4GNb4',\n",
       " ')Mb',\n",
       " ')Ma6)',\n",
       " 'Ma2Ma6)',\n",
       " '2Ma6)Ma6)Mb4GNb',\n",
       " 'Ma2Ma3(Ma2Ma6)Ma6)Mb4',\n",
       " 'Ma2Ma3(Ma2Ma6)Ma6)Mb4GNb4',\n",
       " '(Ma2Ma6)Ma6)Mb',\n",
       " '3(Ma2Ma6)Ma6)Mb4GNb4GN',\n",
       " 'Ma6)Mb4GNb4',\n",
       " ')Ma',\n",
       " 'Ma6)Mb',\n",
       " '6)Mb4GNb4GN',\n",
       " 'Ma6)Ma',\n",
       " ')',\n",
       " '2Ma3(Ma2Ma6)Ma6)Mb4GNb',\n",
       " '6)Ma6)Mb4GNb4GN',\n",
       " '2Ma6)Ma6)Mb4',\n",
       " 'Ma2Ma6)Ma6)',\n",
       " 'Ma2Ma3(Ma2Ma6)Ma6)Mb4GNb4GN',\n",
       " '(Ma2Ma6)Ma6)Mb4GNb4GN',\n",
       " '2Ma6)Ma6',\n",
       " '3(Ma2Ma6)Ma6)Mb',\n",
       " '6)Ma6)Mb',\n",
       " ')Ma6)Mb4GNb4',\n",
       " '6)Ma6)',\n",
       " '2Ma3(Ma2Ma6)Ma6)Mb4',\n",
       " '3(Ma2Ma6)Ma6)Mb4GNb',\n",
       " ')Mb4',\n",
       " 'Ma6)',\n",
       " 'Ma2Ma3(Ma2Ma6)Ma6)Mb',\n",
       " '6)Ma',\n",
       " 'Ma6)Ma6',\n",
       " '6)Mb4GNb',\n",
       " 'Ma6)Ma6)Mb',\n",
       " '6)Ma6',\n",
       " ')Ma6)Mb4GNb4GN',\n",
       " ')Mb4GNb4GN',\n",
       " '2Ma3(Ma2Ma6)Ma6)Mb4GNb4GN',\n",
       " '2Ma6)Ma6)Mb',\n",
       " '2Ma3(Ma2Ma6)Ma6)',\n",
       " '6)Ma6)Mb4GNb4',\n",
       " '2Ma6)Ma6)Mb4GNb4',\n",
       " 'Ma6)Ma6)Mb4GNb4GN',\n",
       " ')Mb4GNb',\n",
       " 'Ma2Ma6)Ma6)Mb',\n",
       " 'Ma2Ma3(Ma2Ma6)Ma6)',\n",
       " 'Ma3(Ma2Ma6)Ma6)Mb4',\n",
       " 'Ma6)Mb4GNb4GN',\n",
       " '(Ma2Ma6)Ma6)',\n",
       " '2Ma6)',\n",
       " '6)Mb4GNb4',\n",
       " 'Ma6)Ma6)',\n",
       " 'Ma2Ma6)Ma6)Mb4GNb4GN',\n",
       " 'Ma6)Ma6)Mb4GNb',\n",
       " '6)Ma6)Mb4',\n",
       " 'Ma2Ma6)Ma6)Mb4GNb',\n",
       " 'Ma3(Ma2Ma6)Ma6)',\n",
       " 'Ma2Ma6)Ma6)Mb4',\n",
       " 'Ma2Ma6)Ma',\n",
       " ')Ma6)Mb',\n",
       " 'Ma2Ma3(Ma2Ma6)Ma6)Mb4GNb',\n",
       " '(Ma2Ma6)Ma6)Mb4',\n",
       " '3(Ma2Ma6)Ma6)Mb4',\n",
       " '6)Mb4',\n",
       " '2Ma3(Ma2Ma6)Ma6)Mb',\n",
       " '2Ma6)Ma6)Mb4GNb4GN',\n",
       " 'Ma6)Mb4',\n",
       " ')Ma6)Mb4GNb',\n",
       " 'Ma6)Mb4GNb',\n",
       " ')Mb4GNb4',\n",
       " '6)Ma6)Mb4GNb',\n",
       " 'Ma2Ma6)Ma6)Mb4GNb4',\n",
       " 'Ma3(Ma2Ma6)Ma6)Mb4GNb4GN',\n",
       " 'Ma3(Ma2Ma6)Ma6)Mb',\n",
       " '2Ma3(Ma2Ma6)Ma6)Mb4GNb4',\n",
       " '6)Mb']"
      ]
     },
     "execution_count": 82,
     "metadata": {},
     "output_type": "execute_result"
    }
   ],
   "source": [
    "map(partial(str_join, ''),\n",
    "    (my_continuation_matches_unique - my_ligand_matches_unique))\n",
    "\n",
    "# map(partial(str_join, ' '),\n",
    "#     (my_continuation_matches_unique - my_ligand_matches_unique))"
   ]
  },
  {
   "cell_type": "code",
   "execution_count": 83,
   "metadata": {
    "ExecuteTime": {
     "end_time": "2020-03-11T21:47:39.139990Z",
     "start_time": "2020-03-11T21:47:39.130485Z"
    }
   },
   "outputs": [
    {
     "data": {
      "text/plain": [
       "{'(Ma2Ma6)Ma6)',\n",
       " '(Ma2Ma6)Ma6)Mb',\n",
       " '(Ma2Ma6)Ma6)Mb4',\n",
       " '(Ma2Ma6)Ma6)Mb4GNb',\n",
       " '(Ma2Ma6)Ma6)Mb4GNb4',\n",
       " '(Ma2Ma6)Ma6)Mb4GNb4GN',\n",
       " ')',\n",
       " ')Ma',\n",
       " ')Ma6',\n",
       " ')Ma6)',\n",
       " ')Ma6)Mb',\n",
       " ')Ma6)Mb4',\n",
       " ')Ma6)Mb4GNb',\n",
       " ')Ma6)Mb4GNb4',\n",
       " ')Ma6)Mb4GNb4GN',\n",
       " ')Mb',\n",
       " ')Mb4',\n",
       " ')Mb4GNb',\n",
       " ')Mb4GNb4',\n",
       " ')Mb4GNb4GN',\n",
       " 'Ma2Ma3(Ma2Ma6)Ma6)',\n",
       " 'Ma2Ma3(Ma2Ma6)Ma6)Mb',\n",
       " 'Ma2Ma3(Ma2Ma6)Ma6)Mb4',\n",
       " 'Ma2Ma3(Ma2Ma6)Ma6)Mb4GNb',\n",
       " 'Ma2Ma3(Ma2Ma6)Ma6)Mb4GNb4',\n",
       " 'Ma2Ma3(Ma2Ma6)Ma6)Mb4GNb4GN',\n",
       " 'Ma2Ma6)',\n",
       " 'Ma2Ma6)Ma',\n",
       " 'Ma2Ma6)Ma6',\n",
       " 'Ma2Ma6)Ma6)',\n",
       " 'Ma2Ma6)Ma6)Mb',\n",
       " 'Ma2Ma6)Ma6)Mb4',\n",
       " 'Ma2Ma6)Ma6)Mb4GNb',\n",
       " 'Ma2Ma6)Ma6)Mb4GNb4',\n",
       " 'Ma2Ma6)Ma6)Mb4GNb4GN',\n",
       " 'Ma3(Ma2Ma6)Ma6)',\n",
       " 'Ma3(Ma2Ma6)Ma6)Mb',\n",
       " 'Ma3(Ma2Ma6)Ma6)Mb4',\n",
       " 'Ma3(Ma2Ma6)Ma6)Mb4GNb',\n",
       " 'Ma3(Ma2Ma6)Ma6)Mb4GNb4',\n",
       " 'Ma3(Ma2Ma6)Ma6)Mb4GNb4GN',\n",
       " 'Ma6)',\n",
       " 'Ma6)Ma',\n",
       " 'Ma6)Ma6',\n",
       " 'Ma6)Ma6)',\n",
       " 'Ma6)Ma6)Mb',\n",
       " 'Ma6)Ma6)Mb4',\n",
       " 'Ma6)Ma6)Mb4GNb',\n",
       " 'Ma6)Ma6)Mb4GNb4',\n",
       " 'Ma6)Ma6)Mb4GNb4GN',\n",
       " 'Ma6)Mb',\n",
       " 'Ma6)Mb4',\n",
       " 'Ma6)Mb4GNb',\n",
       " 'Ma6)Mb4GNb4',\n",
       " 'Ma6)Mb4GNb4GN'}"
      ]
     },
     "execution_count": 83,
     "metadata": {},
     "output_type": "execute_result"
    }
   ],
   "source": [
    "#less garbage than the cell above\n",
    "set(continuation_plottables) - set(ligand_plottables)"
   ]
  },
  {
   "cell_type": "markdown",
   "metadata": {},
   "source": [
    "Suppose a continuation wildcard `_` appears in a string `l_r` where `l` and `r` are such that `l_r` is a well-formed linear code expression. Let 'the context (of a continuation token)' denote `l,r`.\n",
    "\n",
    "Continuation wildcards can match substrings `s` describing trees where at least one node branches, and it is neither the case that \n",
    " - the rightmost subtree `b_r` of this branching is completely specified by `s`: how does it continue? as a chain? as a subtree? if as a subtree, what are its non-rightmost subbranches? All such questions must be answerable by `l`.\n",
    " - the branch/subtree `b_l` to the left of `b_r` is described by `s`"
   ]
  },
  {
   "cell_type": "code",
   "execution_count": null,
   "metadata": {},
   "outputs": [],
   "source": []
  }
 ],
 "metadata": {
  "kernelspec": {
   "display_name": "Python 2",
   "language": "python",
   "name": "python2"
  },
  "language_info": {
   "codemirror_mode": {
    "name": "ipython",
    "version": 2
   },
   "file_extension": ".py",
   "mimetype": "text/x-python",
   "name": "python",
   "nbconvert_exporter": "python",
   "pygments_lexer": "ipython2",
   "version": "2.7.17"
  },
  "toc": {
   "base_numbering": 1,
   "nav_menu": {},
   "number_sections": true,
   "sideBar": true,
   "skip_h1_title": false,
   "title_cell": "Table of Contents",
   "title_sidebar": "Contents",
   "toc_cell": true,
   "toc_position": {},
   "toc_section_display": true,
   "toc_window_display": true
  }
 },
 "nbformat": 4,
 "nbformat_minor": 2
}
